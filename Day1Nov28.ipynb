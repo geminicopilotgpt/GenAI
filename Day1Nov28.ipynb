{
  "nbformat": 4,
  "nbformat_minor": 0,
  "metadata": {
    "colab": {
      "provenance": [],
      "authorship_tag": "ABX9TyP9pmiCVbPw1uLwJeUQjqN/",
      "include_colab_link": true
    },
    "kernelspec": {
      "name": "python3",
      "display_name": "Python 3"
    },
    "language_info": {
      "name": "python"
    }
  },
  "cells": [
    {
      "cell_type": "markdown",
      "metadata": {
        "id": "view-in-github",
        "colab_type": "text"
      },
      "source": [
        "<a href=\"https://colab.research.google.com/github/geminicopilotgpt/GenAI/blob/main/Day1Nov28.ipynb\" target=\"_parent\"><img src=\"https://colab.research.google.com/assets/colab-badge.svg\" alt=\"Open In Colab\"/></a>"
      ]
    },
    {
      "cell_type": "code",
      "execution_count": 2,
      "metadata": {
        "colab": {
          "base_uri": "https://localhost:8080/"
        },
        "id": "wS80qA6TxpXW",
        "outputId": "7fd5e634-7172-4620-b6ff-ecbf1a9451ee"
      },
      "outputs": [
        {
          "output_type": "stream",
          "name": "stdout",
          "text": [
            "Hello World\n"
          ]
        }
      ],
      "source": [
        "print(\"Hello World\")"
      ]
    },
    {
      "cell_type": "code",
      "source": [
        "# prompt: generate code for python sum of two numbers\n",
        "\n",
        "def sum_two_numbers(a, b):\n",
        "  \"\"\"\n",
        "  This function takes two numbers as input and returns their sum.\n",
        "  \"\"\"\n",
        "  return a + b\n",
        "\n",
        "# Example usage\n",
        "number1 = 10\n",
        "number2 = 5\n",
        "result = sum_two_numbers(number1, number2)\n",
        "print(f\"The sum of {number1} and {number2} is: {result}\")"
      ],
      "metadata": {
        "colab": {
          "base_uri": "https://localhost:8080/"
        },
        "id": "LQiipv3gGOcM",
        "outputId": "d5a42e5f-6ead-438e-c8c6-bba6cb4a7249"
      },
      "execution_count": 3,
      "outputs": [
        {
          "output_type": "stream",
          "name": "stdout",
          "text": [
            "The sum of 10 and 5 is: 15\n"
          ]
        }
      ]
    },
    {
      "cell_type": "code",
      "source": [
        "# prompt: generate python code to check if a year is leap year\n",
        "\n",
        "def is_leap_year(year):\n",
        "    \"\"\"\n",
        "    Checks if a given year is a leap year.\n",
        "\n",
        "    Args:\n",
        "        year: The year to check.\n",
        "\n",
        "    Returns:\n",
        "        True if the year is a leap year, False otherwise.\n",
        "    \"\"\"\n",
        "    if year % 4 != 0:\n",
        "        return False\n",
        "    elif year % 100 == 0:\n",
        "        if year % 400 == 0:\n",
        "            return True\n",
        "        else:\n",
        "            return False\n",
        "    else:\n",
        "        return True\n",
        "\n",
        "# Example usage\n",
        "year_to_check = 2024\n",
        "if is_leap_year(year_to_check):\n",
        "    print(f\"{year_to_check} is a leap year.\")\n",
        "else:\n",
        "    print(f\"{year_to_check} is not a leap year.\")"
      ],
      "metadata": {
        "id": "LErwZtq2xuHV",
        "colab": {
          "base_uri": "https://localhost:8080/"
        },
        "outputId": "adb92113-413e-4232-d464-b8f200b9e392"
      },
      "execution_count": 5,
      "outputs": [
        {
          "output_type": "stream",
          "name": "stdout",
          "text": [
            "2024 is a leap year.\n"
          ]
        }
      ]
    },
    {
      "cell_type": "code",
      "source": [
        "# prompt: simple calculator program in python for +, -, *, /, %\n",
        "\n",
        "def calculator():\n",
        "    \"\"\"Performs basic arithmetic operations.\"\"\"\n",
        "\n",
        "    while True:\n",
        "        print(\"\\nSelect operation:\")\n",
        "        print(\"1. Add\")\n",
        "        print(\"2. Subtract\")\n",
        "        print(\"3. Multiply\")\n",
        "        print(\"4. Divide\")\n",
        "        print(\"5. Modulo\")\n",
        "        print(\"6. Exit\")\n",
        "\n",
        "        choice = input(\"Enter choice(1/2/3/4/5/6): \")\n",
        "\n",
        "        if choice in ('1', '2', '3', '4', '5'):\n",
        "            try:\n",
        "                num1 = float(input(\"Enter first number: \"))\n",
        "                num2 = float(input(\"Enter second number: \"))\n",
        "            except ValueError:\n",
        "                print(\"Invalid input. Please enter numbers only.\")\n",
        "                continue\n",
        "\n",
        "            if choice == '1':\n",
        "                print(num1, \"+\", num2, \"=\", num1 + num2)\n",
        "            elif choice == '2':\n",
        "                print(num1, \"-\", num2, \"=\", num1 - num2)\n",
        "            elif choice == '3':\n",
        "                print(num1, \"*\", num2, \"=\", num1 * num2)\n",
        "            elif choice == '4':\n",
        "                if num2 == 0:\n",
        "                    print(\"Division by zero error.\")\n",
        "                else:\n",
        "                    print(num1, \"/\", num2, \"=\", num1 / num2)\n",
        "            elif choice == '5':\n",
        "                print(num1, \"%\", num2, \"=\", num1 % num2)\n",
        "        elif choice == '6':\n",
        "            break\n",
        "        else:\n",
        "            print(\"Invalid Input\")\n",
        "\n",
        "if __name__ == \"__main__\":\n",
        "    calculator()"
      ],
      "metadata": {
        "colab": {
          "base_uri": "https://localhost:8080/"
        },
        "id": "AAf91odMGpqm",
        "outputId": "f554db16-c84e-4e93-8045-8f4b670d2b6f"
      },
      "execution_count": 6,
      "outputs": [
        {
          "name": "stdout",
          "output_type": "stream",
          "text": [
            "\n",
            "Select operation:\n",
            "1. Add\n",
            "2. Subtract\n",
            "3. Multiply\n",
            "4. Divide\n",
            "5. Modulo\n",
            "6. Exit\n",
            "Enter choice(1/2/3/4/5/6): 1\n",
            "Enter first number: 22\n",
            "Enter second number: 12\n",
            "22.0 + 12.0 = 34.0\n",
            "\n",
            "Select operation:\n",
            "1. Add\n",
            "2. Subtract\n",
            "3. Multiply\n",
            "4. Divide\n",
            "5. Modulo\n",
            "6. Exit\n",
            "Enter choice(1/2/3/4/5/6): 6\n"
          ]
        }
      ]
    },
    {
      "cell_type": "code",
      "source": [],
      "metadata": {
        "id": "E1AP1vohHOCp"
      },
      "execution_count": null,
      "outputs": []
    }
  ]
}