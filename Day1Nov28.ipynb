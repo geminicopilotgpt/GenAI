{
  "nbformat": 4,
  "nbformat_minor": 0,
  "metadata": {
    "colab": {
      "provenance": [],
      "authorship_tag": "ABX9TyNkyfHU2jdOvZkaUMHu5Iew",
      "include_colab_link": true
    },
    "kernelspec": {
      "name": "python3",
      "display_name": "Python 3"
    },
    "language_info": {
      "name": "python"
    }
  },
  "cells": [
    {
      "cell_type": "markdown",
      "metadata": {
        "id": "view-in-github",
        "colab_type": "text"
      },
      "source": [
        "<a href=\"https://colab.research.google.com/github/geminicopilotgpt/GenAI/blob/main/Day1Nov28.ipynb\" target=\"_parent\"><img src=\"https://colab.research.google.com/assets/colab-badge.svg\" alt=\"Open In Colab\"/></a>"
      ]
    },
    {
      "cell_type": "code",
      "execution_count": 2,
      "metadata": {
        "colab": {
          "base_uri": "https://localhost:8080/"
        },
        "id": "wS80qA6TxpXW",
        "outputId": "7fd5e634-7172-4620-b6ff-ecbf1a9451ee"
      },
      "outputs": [
        {
          "output_type": "stream",
          "name": "stdout",
          "text": [
            "Hello World\n"
          ]
        }
      ],
      "source": [
        "print(\"Hello World\")"
      ]
    },
    {
      "cell_type": "code",
      "source": [
        "# prompt: generate code for python sum of two numbers\n",
        "\n",
        "def sum_two_numbers(a, b):\n",
        "  \"\"\"\n",
        "  This function takes two numbers as input and returns their sum.\n",
        "  \"\"\"\n",
        "  return a + b\n",
        "\n",
        "# Example usage\n",
        "number1 = 10\n",
        "number2 = 5\n",
        "result = sum_two_numbers(number1, number2)\n",
        "print(f\"The sum of {number1} and {number2} is: {result}\")"
      ],
      "metadata": {
        "colab": {
          "base_uri": "https://localhost:8080/"
        },
        "id": "LQiipv3gGOcM",
        "outputId": "d5a42e5f-6ead-438e-c8c6-bba6cb4a7249"
      },
      "execution_count": 3,
      "outputs": [
        {
          "output_type": "stream",
          "name": "stdout",
          "text": [
            "The sum of 10 and 5 is: 15\n"
          ]
        }
      ]
    },
    {
      "cell_type": "code",
      "source": [
        "# prompt: generate python code to check if a year is leap year\n",
        "\n",
        "def is_leap_year(year):\n",
        "    \"\"\"\n",
        "    Checks if a given year is a leap year.\n",
        "\n",
        "    Args:\n",
        "        year: The year to check.\n",
        "\n",
        "    Returns:\n",
        "        True if the year is a leap year, False otherwise.\n",
        "    \"\"\"\n",
        "    if year % 4 != 0:\n",
        "        return False\n",
        "    elif year % 100 == 0:\n",
        "        if year % 400 == 0:\n",
        "            return True\n",
        "        else:\n",
        "            return False\n",
        "    else:\n",
        "        return True\n",
        "\n",
        "# Example usage\n",
        "year_to_check = 2024\n",
        "if is_leap_year(year_to_check):\n",
        "    print(f\"{year_to_check} is a leap year.\")\n",
        "else:\n",
        "    print(f\"{year_to_check} is not a leap year.\")"
      ],
      "metadata": {
        "id": "LErwZtq2xuHV",
        "colab": {
          "base_uri": "https://localhost:8080/"
        },
        "outputId": "adb92113-413e-4232-d464-b8f200b9e392"
      },
      "execution_count": 5,
      "outputs": [
        {
          "output_type": "stream",
          "name": "stdout",
          "text": [
            "2024 is a leap year.\n"
          ]
        }
      ]
    },
    {
      "cell_type": "code",
      "source": [
        "# prompt: simple calculator program in python for +, -, *, /, %\n",
        "\n",
        "def calculator():\n",
        "    \"\"\"Performs basic arithmetic operations.\"\"\"\n",
        "\n",
        "    while True:\n",
        "        print(\"\\nSelect operation:\")\n",
        "        print(\"1. Add\")\n",
        "        print(\"2. Subtract\")\n",
        "        print(\"3. Multiply\")\n",
        "        print(\"4. Divide\")\n",
        "        print(\"5. Modulo\")\n",
        "        print(\"6. Exit\")\n",
        "\n",
        "        choice = input(\"Enter choice(1/2/3/4/5/6): \")\n",
        "\n",
        "        if choice in ('1', '2', '3', '4', '5'):\n",
        "            try:\n",
        "                num1 = float(input(\"Enter first number: \"))\n",
        "                num2 = float(input(\"Enter second number: \"))\n",
        "            except ValueError:\n",
        "                print(\"Invalid input. Please enter numbers only.\")\n",
        "                continue\n",
        "\n",
        "            if choice == '1':\n",
        "                print(num1, \"+\", num2, \"=\", num1 + num2)\n",
        "            elif choice == '2':\n",
        "                print(num1, \"-\", num2, \"=\", num1 - num2)\n",
        "            elif choice == '3':\n",
        "                print(num1, \"*\", num2, \"=\", num1 * num2)\n",
        "            elif choice == '4':\n",
        "                if num2 == 0:\n",
        "                    print(\"Division by zero error.\")\n",
        "                else:\n",
        "                    print(num1, \"/\", num2, \"=\", num1 / num2)\n",
        "            elif choice == '5':\n",
        "                print(num1, \"%\", num2, \"=\", num1 % num2)\n",
        "        elif choice == '6':\n",
        "            break\n",
        "        else:\n",
        "            print(\"Invalid Input\")\n",
        "\n",
        "if __name__ == \"__main__\":\n",
        "    calculator()"
      ],
      "metadata": {
        "colab": {
          "base_uri": "https://localhost:8080/"
        },
        "id": "AAf91odMGpqm",
        "outputId": "f554db16-c84e-4e93-8045-8f4b670d2b6f"
      },
      "execution_count": 6,
      "outputs": [
        {
          "name": "stdout",
          "output_type": "stream",
          "text": [
            "\n",
            "Select operation:\n",
            "1. Add\n",
            "2. Subtract\n",
            "3. Multiply\n",
            "4. Divide\n",
            "5. Modulo\n",
            "6. Exit\n",
            "Enter choice(1/2/3/4/5/6): 1\n",
            "Enter first number: 22\n",
            "Enter second number: 12\n",
            "22.0 + 12.0 = 34.0\n",
            "\n",
            "Select operation:\n",
            "1. Add\n",
            "2. Subtract\n",
            "3. Multiply\n",
            "4. Divide\n",
            "5. Modulo\n",
            "6. Exit\n",
            "Enter choice(1/2/3/4/5/6): 6\n"
          ]
        }
      ]
    },
    {
      "cell_type": "code",
      "source": [
        "# prompt: create for loop for first 5 numbers in python using range\n",
        "\n",
        "for i in range(5):\n",
        "  print(i)"
      ],
      "metadata": {
        "colab": {
          "base_uri": "https://localhost:8080/"
        },
        "id": "E1AP1vohHOCp",
        "outputId": "6ce6a16b-e76d-4109-d5b8-35c19a778a3e"
      },
      "execution_count": 8,
      "outputs": [
        {
          "output_type": "stream",
          "name": "stdout",
          "text": [
            "0\n",
            "1\n",
            "2\n",
            "3\n",
            "4\n"
          ]
        }
      ]
    },
    {
      "cell_type": "code",
      "source": [
        "# prompt: create program to iterate string characters using loop\n",
        "\n",
        "def iterate_string(input_string):\n",
        "    \"\"\"Iterates through each character of a string using a loop.\"\"\"\n",
        "    for char in input_string:\n",
        "        print(char)\n",
        "\n",
        "# Example usage\n",
        "my_string = \"Hello, World!\"\n",
        "iterate_string(my_string)"
      ],
      "metadata": {
        "colab": {
          "base_uri": "https://localhost:8080/"
        },
        "id": "V0jMng5oHmu9",
        "outputId": "93ae861a-4b43-4eda-d3c5-9b0d3b885c11"
      },
      "execution_count": 9,
      "outputs": [
        {
          "output_type": "stream",
          "name": "stdout",
          "text": [
            "H\n",
            "e\n",
            "l\n",
            "l\n",
            "o\n",
            ",\n",
            " \n",
            "W\n",
            "o\n",
            "r\n",
            "l\n",
            "d\n",
            "!\n"
          ]
        }
      ]
    },
    {
      "cell_type": "code",
      "source": [
        "# prompt: create program to increment a count for 5 values starting from 0\n",
        "\n",
        "def increment_count():\n",
        "    \"\"\"Increments a count for 5 values starting from 0.\"\"\"\n",
        "    count = 0\n",
        "    for _ in range(5):\n",
        "        print(count)\n",
        "        count += 1\n",
        "\n",
        "increment_count()"
      ],
      "metadata": {
        "colab": {
          "base_uri": "https://localhost:8080/"
        },
        "id": "GMK_HtMrIiBi",
        "outputId": "a28c1393-0cb1-4ddb-b173-db13b6648252"
      },
      "execution_count": 10,
      "outputs": [
        {
          "output_type": "stream",
          "name": "stdout",
          "text": [
            "0\n",
            "1\n",
            "2\n",
            "3\n",
            "4\n"
          ]
        }
      ]
    },
    {
      "cell_type": "code",
      "source": [
        "# prompt: do the same code as done above  for count value using while loop\n",
        "\n",
        "def increment_count_while():\n",
        "    \"\"\"Increments a count for 5 values starting from 0 using a while loop.\"\"\"\n",
        "    count = 0\n",
        "    while count < 5:\n",
        "        print(count)\n",
        "        count += 1\n",
        "\n",
        "increment_count_while()"
      ],
      "metadata": {
        "colab": {
          "base_uri": "https://localhost:8080/"
        },
        "id": "pJmO-GzvIwcS",
        "outputId": "ef210cba-ca29-466b-caa5-e15126198560"
      },
      "execution_count": 11,
      "outputs": [
        {
          "output_type": "stream",
          "name": "stdout",
          "text": [
            "0\n",
            "1\n",
            "2\n",
            "3\n",
            "4\n"
          ]
        }
      ]
    },
    {
      "cell_type": "code",
      "source": [
        "# prompt: create program in python for break and continue\n",
        "\n",
        "def demonstrate_break_continue():\n",
        "    \"\"\"Demonstrates the use of break and continue statements in loops.\"\"\"\n",
        "\n",
        "    print(\"Demonstrating 'break' statement:\")\n",
        "    for i in range(1, 11):\n",
        "        if i == 5:\n",
        "            break  # Exit the loop when i is 5\n",
        "        print(i)\n",
        "\n",
        "    print(\"\\nDemonstrating 'continue' statement:\")\n",
        "    for i in range(1, 11):\n",
        "        if i % 2 == 0:\n",
        "            continue  # Skip even numbers\n",
        "        print(i)\n",
        "\n",
        "    print(\"\\nDemonstrating 'break' and 'continue' in a while loop:\")\n",
        "    i = 0\n",
        "    while i < 10:\n",
        "        i += 1\n",
        "        if i == 3:\n",
        "            continue  # Skip when i is 3\n",
        "        if i == 7:\n",
        "            break  # Exit loop when i is 7\n",
        "        print(i)\n",
        "\n",
        "# Call the function to demonstrate\n",
        "demonstrate_break_continue()"
      ],
      "metadata": {
        "colab": {
          "base_uri": "https://localhost:8080/"
        },
        "id": "gs42pwBNI4zy",
        "outputId": "6eb0583f-c35d-45e5-85b0-b13d816740e6"
      },
      "execution_count": 12,
      "outputs": [
        {
          "output_type": "stream",
          "name": "stdout",
          "text": [
            "Demonstrating 'break' statement:\n",
            "1\n",
            "2\n",
            "3\n",
            "4\n",
            "\n",
            "Demonstrating 'continue' statement:\n",
            "1\n",
            "3\n",
            "5\n",
            "7\n",
            "9\n",
            "\n",
            "Demonstrating 'break' and 'continue' in a while loop:\n",
            "1\n",
            "2\n",
            "4\n",
            "5\n",
            "6\n"
          ]
        }
      ]
    },
    {
      "cell_type": "code",
      "source": [
        "# prompt: create code for pass statement in python\n",
        "\n",
        "def empty_function():\n",
        "  pass"
      ],
      "metadata": {
        "id": "NRfwN6JYJMyH"
      },
      "execution_count": 13,
      "outputs": []
    },
    {
      "cell_type": "code",
      "source": [
        "# prompt: create program in python for nested loops\n",
        "\n",
        "def nested_loops():\n",
        "    \"\"\"Demonstrates nested loops in Python.\"\"\"\n",
        "\n",
        "    rows = 3\n",
        "    cols = 4\n",
        "\n",
        "    for i in range(rows):\n",
        "        for j in range(cols):\n",
        "            print(f\"({i}, {j})\", end=\" \")  # Print coordinates within the loop\n",
        "        print()  # Newline after each row\n",
        "\n",
        "\n",
        "# Call the function to demonstrate nested loops\n",
        "nested_loops()"
      ],
      "metadata": {
        "colab": {
          "base_uri": "https://localhost:8080/"
        },
        "id": "U1dmfZL5Jebs",
        "outputId": "9466335c-a117-4fbe-d538-5f923137fd9e"
      },
      "execution_count": 14,
      "outputs": [
        {
          "output_type": "stream",
          "name": "stdout",
          "text": [
            "(0, 0) (0, 1) (0, 2) (0, 3) \n",
            "(1, 0) (1, 1) (1, 2) (1, 3) \n",
            "(2, 0) (2, 1) (2, 2) (2, 3) \n"
          ]
        }
      ]
    },
    {
      "cell_type": "code",
      "source": [
        "# prompt: program to calculate the sum of first n natural numbers using while and for loop\n",
        "\n",
        "def sum_n_natural_while(n):\n",
        "  \"\"\"\n",
        "  Calculates the sum of the first n natural numbers using a while loop.\n",
        "  \"\"\"\n",
        "  sum = 0\n",
        "  i = 1\n",
        "  while i <= n:\n",
        "    sum += i\n",
        "    i += 1\n",
        "  return sum\n",
        "\n",
        "def sum_n_natural_for(n):\n",
        "  \"\"\"\n",
        "  Calculates the sum of the first n natural numbers using a for loop.\n",
        "  \"\"\"\n",
        "  sum = 0\n",
        "  for i in range(1, n + 1):\n",
        "    sum += i\n",
        "  return sum\n",
        "\n",
        "# Example usage\n",
        "n = 5\n",
        "print(f\"Sum of first {n} natural numbers (while loop): {sum_n_natural_while(n)}\")\n",
        "print(f\"Sum of first {n} natural numbers (for loop): {sum_n_natural_for(n)}\")"
      ],
      "metadata": {
        "colab": {
          "base_uri": "https://localhost:8080/"
        },
        "id": "wEA3bdjcJ2f1",
        "outputId": "1d76fa63-4488-4ee5-bd9f-0fe3c7ae23c4"
      },
      "execution_count": 15,
      "outputs": [
        {
          "output_type": "stream",
          "name": "stdout",
          "text": [
            "Sum of first 5 natural numbers (while loop): 15\n",
            "Sum of first 5 natural numbers (for loop): 15\n"
          ]
        }
      ]
    },
    {
      "cell_type": "code",
      "source": [
        "# prompt: prime number between 1 and 100\n",
        "\n",
        "def prime_numbers_in_range(start, end):\n",
        "    \"\"\"\n",
        "    Finds all prime numbers within a given range.\n",
        "\n",
        "    Args:\n",
        "        start: The starting number of the range (inclusive).\n",
        "        end: The ending number of the range (inclusive).\n",
        "\n",
        "    Returns:\n",
        "        A list containing all prime numbers within the specified range.\n",
        "    \"\"\"\n",
        "    prime_numbers = []\n",
        "    for num in range(start, end + 1):\n",
        "        if num > 1:\n",
        "            is_prime = True\n",
        "            for i in range(2, int(num**0.5) + 1):\n",
        "                if num % i == 0:\n",
        "                    is_prime = False\n",
        "                    break\n",
        "            if is_prime:\n",
        "                prime_numbers.append(num)\n",
        "    return prime_numbers\n",
        "\n",
        "# Example usage: Find prime numbers between 1 and 100\n",
        "primes = prime_numbers_in_range(1, 100)\n",
        "print(\"Prime numbers between 1 and 100:\", primes)"
      ],
      "metadata": {
        "colab": {
          "base_uri": "https://localhost:8080/"
        },
        "id": "ZOzTBFu0KJMV",
        "outputId": "cb9967a5-0820-46e0-cde0-adbb0f7cef50"
      },
      "execution_count": 16,
      "outputs": [
        {
          "output_type": "stream",
          "name": "stdout",
          "text": [
            "Prime numbers between 1 and 100: [2, 3, 5, 7, 11, 13, 17, 19, 23, 29, 31, 37, 41, 43, 47, 53, 59, 61, 67, 71, 73, 79, 83, 89, 97]\n"
          ]
        }
      ]
    },
    {
      "cell_type": "code",
      "source": [
        "# prompt: empty list, add element in list of names and display it\n",
        "\n",
        "names = []\n",
        "\n",
        "# Add elements to the list\n",
        "names.append(\"Alice\")\n",
        "names.append(\"Bob\")\n",
        "names.append(\"Charlie\")\n",
        "\n",
        "# Display the list\n",
        "names"
      ],
      "metadata": {
        "colab": {
          "base_uri": "https://localhost:8080/"
        },
        "id": "KyZSzYzBKnPj",
        "outputId": "ebcd37b7-d477-44aa-b3e8-9679a7750d30"
      },
      "execution_count": 17,
      "outputs": [
        {
          "output_type": "execute_result",
          "data": {
            "text/plain": [
              "['Alice', 'Bob', 'Charlie']"
            ]
          },
          "metadata": {},
          "execution_count": 17
        }
      ]
    },
    {
      "cell_type": "code",
      "source": [
        "# prompt: create list of fruits and print using index\n",
        "\n",
        "fruits = [\"apple\", \"banana\", \"cherry\", \"date\", \"elderberry\"]\n",
        "\n",
        "# Print the list using index\n",
        "for i in range(len(fruits)):\n",
        "    print(f\"Fruit at index {i}: {fruits[i]}\")"
      ],
      "metadata": {
        "colab": {
          "base_uri": "https://localhost:8080/"
        },
        "id": "4phQz2LsLMOd",
        "outputId": "ffba87b9-6d7f-4453-f172-42e0927ac0fb"
      },
      "execution_count": 18,
      "outputs": [
        {
          "output_type": "stream",
          "name": "stdout",
          "text": [
            "Fruit at index 0: apple\n",
            "Fruit at index 1: banana\n",
            "Fruit at index 2: cherry\n",
            "Fruit at index 3: date\n",
            "Fruit at index 4: elderberry\n"
          ]
        }
      ]
    },
    {
      "cell_type": "code",
      "source": [
        "# prompt: remove one element from list  and return the last item using pop\n",
        "\n",
        "fruits = [\"apple\", \"banana\", \"cherry\", \"date\", \"elderberry\"]\n",
        "\n",
        "# Remove the element at index 2 (\"cherry\") and return it\n",
        "removed_fruit = fruits.pop(2)\n",
        "print(f\"Removed fruit: {removed_fruit}\")\n",
        "\n",
        "# Print the last item in the list after the pop operation\n",
        "print(f\"Last item: {fruits[-1]}\")"
      ],
      "metadata": {
        "colab": {
          "base_uri": "https://localhost:8080/"
        },
        "id": "whTyXeTzLzCn",
        "outputId": "972826dd-e341-4a4e-9b87-972973f83d50"
      },
      "execution_count": 19,
      "outputs": [
        {
          "output_type": "stream",
          "name": "stdout",
          "text": [
            "Removed fruit: cherry\n",
            "Last item: elderberry\n"
          ]
        }
      ]
    },
    {
      "cell_type": "code",
      "source": [
        "# prompt: reverse the list\n",
        "\n",
        "def reverse_list(input_list):\n",
        "    \"\"\"Reverses the order of elements in a list.\n",
        "\n",
        "    Args:\n",
        "        input_list: The list to be reversed.\n",
        "\n",
        "    Returns:\n",
        "        A new list with the elements in reversed order.\n",
        "    \"\"\"\n",
        "    return input_list[::-1]\n",
        "\n",
        "# Example usage\n",
        "my_list = [1, 2, 3, 4, 5]\n",
        "reversed_list = reverse_list(my_list)\n",
        "print(f\"Original list: {my_list}\")\n",
        "print(f\"Reversed list: {reversed_list}\")"
      ],
      "metadata": {
        "colab": {
          "base_uri": "https://localhost:8080/"
        },
        "id": "f0p3FtbDHk3b",
        "outputId": "35407907-a09b-4f11-859b-60a37edb55fb"
      },
      "execution_count": 20,
      "outputs": [
        {
          "output_type": "stream",
          "name": "stdout",
          "text": [
            "Original list: [1, 2, 3, 4, 5]\n",
            "Reversed list: [5, 4, 3, 2, 1]\n"
          ]
        }
      ]
    },
    {
      "cell_type": "code",
      "source": [
        "# prompt: slicing list\n",
        "\n",
        "fruits = [\"apple\", \"banana\", \"cherry\", \"date\", \"elderberry\"]\n",
        "\n",
        "# Slice the list to get elements from index 1 up to (but not including) index 4\n",
        "sliced_fruits = fruits[1:4]\n",
        "print(sliced_fruits)  # Output: ['banana', 'cherry', 'date']\n",
        "\n",
        "# Slice from the beginning up to (but not including) index 3\n",
        "sliced_fruits = fruits[:3]\n",
        "print(sliced_fruits)  # Output: ['apple', 'banana', 'cherry']\n",
        "\n",
        "# Slice from index 2 to the end of the list\n",
        "sliced_fruits = fruits[2:]\n",
        "print(sliced_fruits)  # Output: ['cherry', 'date', 'elderberry']\n",
        "\n",
        "# Slice the entire list (creates a copy)\n",
        "sliced_fruits = fruits[:]\n",
        "print(sliced_fruits)  # Output: ['apple', 'banana', 'cherry', 'date', 'elderberry']\n",
        "\n",
        "# Slice with a step of 2\n",
        "sliced_fruits = fruits[::2]\n",
        "print(sliced_fruits)  # Output: ['apple', 'cherry', 'elderberry']\n",
        "\n",
        "# Reverse the list using slicing\n",
        "reversed_fruits = fruits[::-1]\n",
        "print(reversed_fruits) # Output: ['elderberry', 'date', 'cherry', 'banana', 'apple']"
      ],
      "metadata": {
        "colab": {
          "base_uri": "https://localhost:8080/"
        },
        "id": "Erbp6PxfNJhG",
        "outputId": "0ac9c226-fefc-47a3-ca94-841d745db9ea"
      },
      "execution_count": 21,
      "outputs": [
        {
          "output_type": "stream",
          "name": "stdout",
          "text": [
            "['banana', 'cherry', 'date']\n",
            "['apple', 'banana', 'cherry']\n",
            "['cherry', 'date', 'elderberry']\n",
            "['apple', 'banana', 'cherry', 'date', 'elderberry']\n",
            "['apple', 'cherry', 'elderberry']\n",
            "['elderberry', 'date', 'cherry', 'banana', 'apple']\n"
          ]
        }
      ]
    },
    {
      "cell_type": "code",
      "source": [
        "# prompt: iterating over list\n",
        "\n",
        "def iterate_list(input_list):\n",
        "    \"\"\"Iterates through a list and prints each element.\"\"\"\n",
        "    for item in input_list:\n",
        "        print(item)\n",
        "\n",
        "# Example usage\n",
        "my_list = [1, 2, 3, 4, 5]\n",
        "iterate_list(my_list)"
      ],
      "metadata": {
        "colab": {
          "base_uri": "https://localhost:8080/"
        },
        "id": "mahWqNmfNcCw",
        "outputId": "d2a3299b-e8c8-41e8-a6a6-9100442140fe"
      },
      "execution_count": 22,
      "outputs": [
        {
          "output_type": "stream",
          "name": "stdout",
          "text": [
            "1\n",
            "2\n",
            "3\n",
            "4\n",
            "5\n"
          ]
        }
      ]
    },
    {
      "cell_type": "code",
      "source": [
        "# prompt: list comprehension - print first 10 numbers in list by squaring each\n",
        "\n",
        "numbers = [i**2 for i in range(10)]\n",
        "numbers"
      ],
      "metadata": {
        "colab": {
          "base_uri": "https://localhost:8080/"
        },
        "id": "WLfMwlQ9N5tG",
        "outputId": "12cadb8e-1b9a-4690-8bc0-653721c4660f"
      },
      "execution_count": 23,
      "outputs": [
        {
          "output_type": "execute_result",
          "data": {
            "text/plain": [
              "[0, 1, 4, 9, 16, 25, 36, 49, 64, 81]"
            ]
          },
          "metadata": {},
          "execution_count": 23
        }
      ]
    },
    {
      "cell_type": "code",
      "source": [
        "# prompt: making a to do list for adding and removing item for list\n",
        "\n",
        "def add_item(todo_list):\n",
        "  \"\"\"Adds an item to the to-do list.\"\"\"\n",
        "  item = input(\"Enter the to-do item: \")\n",
        "  todo_list.append(item)\n",
        "  print(f\"Added '{item}' to the to-do list.\")\n",
        "\n",
        "\n",
        "def remove_item(todo_list):\n",
        "  \"\"\"Removes an item from the to-do list.\"\"\"\n",
        "  if not todo_list:\n",
        "    print(\"The to-do list is empty.\")\n",
        "    return\n",
        "\n",
        "  print(\"Current to-do list:\")\n",
        "  for index, item in enumerate(todo_list):\n",
        "    print(f\"{index + 1}. {item}\")\n",
        "\n",
        "  try:\n",
        "    item_number = int(input(\"Enter the number of the item to remove: \"))\n",
        "    if 1 <= item_number <= len(todo_list):\n",
        "      removed_item = todo_list.pop(item_number - 1)\n",
        "      print(f\"Removed '{removed_item}' from the to-do list.\")\n",
        "    else:\n",
        "      print(\"Invalid item number.\")\n",
        "  except ValueError:\n",
        "    print(\"Invalid input. Please enter a number.\")\n",
        "\n",
        "\n",
        "def view_list(todo_list):\n",
        "  \"\"\"Views the current to-do list.\"\"\"\n",
        "  if not todo_list:\n",
        "    print(\"The to-do list is empty.\")\n",
        "    return\n",
        "\n",
        "  print(\"Current to-do list:\")\n",
        "  for index, item in enumerate(todo_list):\n",
        "    print(f\"{index + 1}. {item}\")\n",
        "\n",
        "\n",
        "def main():\n",
        "  \"\"\"Main function to run the to-do list application.\"\"\"\n",
        "  todo_list = []\n",
        "\n",
        "  while True:\n",
        "    print(\"\\nSelect an action:\")\n",
        "    print(\"1. Add item\")\n",
        "    print(\"2. Remove item\")\n",
        "    print(\"3. View list\")\n",
        "    print(\"4. Exit\")\n",
        "\n",
        "    choice = input(\"Enter your choice: \")\n",
        "\n",
        "    if choice == '1':\n",
        "      add_item(todo_list)\n",
        "    elif choice == '2':\n",
        "      remove_item(todo_list)\n",
        "    elif choice == '3':\n",
        "      view_list(todo_list)\n",
        "    elif choice == '4':\n",
        "      print(\"Exiting the to-do list application.\")\n",
        "      break\n",
        "    else:\n",
        "      print(\"Invalid choice. Please try again.\")\n",
        "\n",
        "\n",
        "if __name__ == \"__main__\":\n",
        "  main()"
      ],
      "metadata": {
        "colab": {
          "base_uri": "https://localhost:8080/"
        },
        "id": "T0viSOxZOOTy",
        "outputId": "83205084-0a59-494b-945f-a0b341bbc34f"
      },
      "execution_count": 24,
      "outputs": [
        {
          "output_type": "stream",
          "name": "stdout",
          "text": [
            "\n",
            "Select an action:\n",
            "1. Add item\n",
            "2. Remove item\n",
            "3. View list\n",
            "4. Exit\n",
            "Enter your choice: 1\n",
            "Enter the to-do item: Coding\n",
            "Added 'Coding' to the to-do list.\n",
            "\n",
            "Select an action:\n",
            "1. Add item\n",
            "2. Remove item\n",
            "3. View list\n",
            "4. Exit\n",
            "Enter your choice: 3\n",
            "Current to-do list:\n",
            "1. Coding\n",
            "\n",
            "Select an action:\n",
            "1. Add item\n",
            "2. Remove item\n",
            "3. View list\n",
            "4. Exit\n",
            "Enter your choice: 2\n",
            "Current to-do list:\n",
            "1. Coding\n",
            "Enter the number of the item to remove: 1\n",
            "Removed 'Coding' from the to-do list.\n",
            "\n",
            "Select an action:\n",
            "1. Add item\n",
            "2. Remove item\n",
            "3. View list\n",
            "4. Exit\n",
            "Enter your choice: 3\n",
            "The to-do list is empty.\n",
            "\n",
            "Select an action:\n",
            "1. Add item\n",
            "2. Remove item\n",
            "3. View list\n",
            "4. Exit\n",
            "Enter your choice: 1\n",
            "Enter the to-do item: coding, coding, coding,,,,\n",
            "Added 'coding, coding, coding,,,,' to the to-do list.\n",
            "\n",
            "Select an action:\n",
            "1. Add item\n",
            "2. Remove item\n",
            "3. View list\n",
            "4. Exit\n",
            "Enter your choice: 3\n",
            "Current to-do list:\n",
            "1. coding, coding, coding,,,,\n",
            "\n",
            "Select an action:\n",
            "1. Add item\n",
            "2. Remove item\n",
            "3. View list\n",
            "4. Exit\n",
            "Enter your choice: 1\n",
            "Enter the to-do item: python\n",
            "Added 'python' to the to-do list.\n",
            "\n",
            "Select an action:\n",
            "1. Add item\n",
            "2. Remove item\n",
            "3. View list\n",
            "4. Exit\n",
            "Enter your choice: 3\n",
            "Current to-do list:\n",
            "1. coding, coding, coding,,,,\n",
            "2. python\n",
            "\n",
            "Select an action:\n",
            "1. Add item\n",
            "2. Remove item\n",
            "3. View list\n",
            "4. Exit\n",
            "Enter your choice: 4\n",
            "Exiting the to-do list application.\n"
          ]
        }
      ]
    },
    {
      "cell_type": "code",
      "source": [
        "# prompt: managing an inventory program\n",
        "\n",
        "def manage_inventory():\n",
        "    \"\"\"Manages an inventory of items.\"\"\"\n",
        "\n",
        "    inventory = {}  # Use a dictionary to store item names and quantities\n",
        "\n",
        "    while True:\n",
        "        print(\"\\nInventory Management Menu:\")\n",
        "        print(\"1. Add item\")\n",
        "        print(\"2. Remove item\")\n",
        "        print(\"3. Update quantity\")\n",
        "        print(\"4. View inventory\")\n",
        "        print(\"5. Exit\")\n",
        "\n",
        "        choice = input(\"Enter your choice: \")\n",
        "\n",
        "        if choice == '1':\n",
        "            item_name = input(\"Enter item name: \")\n",
        "            quantity = int(input(\"Enter quantity: \"))\n",
        "            if item_name in inventory:\n",
        "                print(\"Item already exists. Updating quantity.\")\n",
        "                inventory[item_name] += quantity\n",
        "            else:\n",
        "                inventory[item_name] = quantity\n",
        "            print(f\"Added {quantity} {item_name}(s) to the inventory.\")\n",
        "\n",
        "        elif choice == '2':\n",
        "            item_name = input(\"Enter item name to remove: \")\n",
        "            if item_name in inventory:\n",
        "                del inventory[item_name]\n",
        "                print(f\"{item_name} removed from the inventory.\")\n",
        "            else:\n",
        "                print(f\"{item_name} not found in the inventory.\")\n",
        "\n",
        "        elif choice == '3':\n",
        "            item_name = input(\"Enter item name to update: \")\n",
        "            if item_name in inventory:\n",
        "                quantity_change = int(input(\"Enter quantity change (positive or negative): \"))\n",
        "                inventory[item_name] += quantity_change\n",
        "                if inventory[item_name] < 0:\n",
        "                    inventory[item_name] = 0\n",
        "                    print(f\"Quantity cannot be negative. Setting {item_name} quantity to 0\")\n",
        "                else:\n",
        "                    print(f\"Updated quantity of {item_name} to {inventory[item_name]}.\")\n",
        "            else:\n",
        "                print(f\"{item_name} not found in inventory.\")\n",
        "        elif choice == '4':\n",
        "            if not inventory:\n",
        "                print(\"Inventory is empty.\")\n",
        "            else:\n",
        "                print(\"\\nCurrent Inventory:\")\n",
        "                for item, quantity in inventory.items():\n",
        "                    print(f\"{item}: {quantity}\")\n",
        "        elif choice == '5':\n",
        "            print(\"Exiting inventory management.\")\n",
        "            break\n",
        "        else:\n",
        "            print(\"Invalid choice. Please try again.\")\n",
        "\n",
        "if __name__ == \"__main__\":\n",
        "    manage_inventory()"
      ],
      "metadata": {
        "colab": {
          "base_uri": "https://localhost:8080/"
        },
        "id": "NZM-LNBxQBkG",
        "outputId": "94574109-33b0-44da-a0ba-f09c6dd21061"
      },
      "execution_count": 25,
      "outputs": [
        {
          "output_type": "stream",
          "name": "stdout",
          "text": [
            "\n",
            "Inventory Management Menu:\n",
            "1. Add item\n",
            "2. Remove item\n",
            "3. Update quantity\n",
            "4. View inventory\n",
            "5. Exit\n",
            "Enter your choice: 1\n",
            "Enter item name: Apple\n",
            "Enter quantity: 4\n",
            "Added 4 Apple(s) to the inventory.\n",
            "\n",
            "Inventory Management Menu:\n",
            "1. Add item\n",
            "2. Remove item\n",
            "3. Update quantity\n",
            "4. View inventory\n",
            "5. Exit\n",
            "Enter your choice: 5\n",
            "Exiting inventory management.\n"
          ]
        }
      ]
    },
    {
      "cell_type": "code",
      "source": [
        "# prompt: create tuple with its definition\n",
        "\n",
        "# Define a tuple\n",
        "my_tuple = (1, 2, 3, \"apple\", \"banana\")\n",
        "\n",
        "# Print the tuple and its data type\n",
        "print(my_tuple)\n",
        "print(type(my_tuple))\n",
        "\n",
        "\n",
        "# Accessing elements (indexing starts from 0)\n",
        "print(my_tuple[0])    # Output: 1\n",
        "print(my_tuple[3])    # Output: \"apple\"\n",
        "\n",
        "\n",
        "# Tuples are immutable, so you cannot modify elements\n",
        "# The following line will cause an error:\n",
        "# my_tuple[0] = 10\n",
        "\n",
        "# Iterating through a tuple\n",
        "for item in my_tuple:\n",
        "  print(item)"
      ],
      "metadata": {
        "colab": {
          "base_uri": "https://localhost:8080/"
        },
        "id": "iqsssDNKQk7P",
        "outputId": "ebaf81ee-98a6-46ab-a8bf-3aecdd5e13c0"
      },
      "execution_count": 26,
      "outputs": [
        {
          "output_type": "stream",
          "name": "stdout",
          "text": [
            "(1, 2, 3, 'apple', 'banana')\n",
            "<class 'tuple'>\n",
            "1\n",
            "apple\n",
            "1\n",
            "2\n",
            "3\n",
            "apple\n",
            "banana\n"
          ]
        }
      ]
    },
    {
      "cell_type": "code",
      "source": [
        "# prompt: Write a function in Python to check duplicate letters\n",
        "\n",
        "def check_duplicate_letters(input_string):\n",
        "    \"\"\"\n",
        "    Checks for duplicate letters in a string.\n",
        "\n",
        "    Args:\n",
        "        input_string: The string to check.\n",
        "\n",
        "    Returns:\n",
        "        True if the string contains duplicate letters, False otherwise.\n",
        "    \"\"\"\n",
        "    seen_letters = set()\n",
        "    for char in input_string.lower():  # Convert to lowercase for case-insensitive check\n",
        "        if 'a' <= char <= 'z':  # Check if it's a letter\n",
        "            if char in seen_letters:\n",
        "                return True  # Duplicate found\n",
        "            seen_letters.add(char)\n",
        "    return False  # No duplicates found\n",
        "\n",
        "# Example usage (you can test with various strings):\n",
        "string1 = \"hello\"\n",
        "string2 = \"world\"\n",
        "string3 = \"programming\"\n",
        "string4 = \"abCDefghI\" # case insensitive\n",
        "\n",
        "print(f\"'{string1}' has duplicate letters: {check_duplicate_letters(string1)}\")  # Output: False\n",
        "print(f\"'{string2}' has duplicate letters: {check_duplicate_letters(string2)}\")  # Output: True\n",
        "print(f\"'{string3}' has duplicate letters: {check_duplicate_letters(string3)}\")  # Output: True\n",
        "print(f\"'{string4}' has duplicate letters: {check_duplicate_letters(string4)}\")  # Output: False"
      ],
      "metadata": {
        "colab": {
          "base_uri": "https://localhost:8080/"
        },
        "id": "sWLhNwaZQ8AY",
        "outputId": "20438cf7-615e-4ab2-8af7-7775cf363a27"
      },
      "execution_count": 29,
      "outputs": [
        {
          "output_type": "stream",
          "name": "stdout",
          "text": [
            "'hello' has duplicate letters: True\n",
            "'world' has duplicate letters: False\n",
            "'programming' has duplicate letters: True\n",
            "'abCDefghI' has duplicate letters: False\n"
          ]
        }
      ]
    },
    {
      "cell_type": "code",
      "source": [
        "# prompt: packing and unpacking nested tuple\n",
        "\n",
        "# Sample nested tuple\n",
        "nested_tuple = ((1, 2, 3), (4, 5, 6), (7, 8, 9))\n",
        "\n",
        "# Packing: Creating a new tuple with the elements of nested_tuple\n",
        "packed_tuple = tuple(nested_tuple)\n",
        "print(\"Packed tuple:\", packed_tuple)\n",
        "\n",
        "# Unpacking: Extracting the elements of packed_tuple into individual variables\n",
        "a, b, c = nested_tuple\n",
        "print(\"Unpacked elements:\")\n",
        "print(\"a:\", a)\n",
        "print(\"b:\", b)\n",
        "print(\"c:\", c)\n",
        "\n",
        "# Unpacking into variables, then unpacking each inner tuple:\n",
        "(x1, x2, x3), (y1, y2, y3), (z1, z2, z3) = nested_tuple\n",
        "print(\"\\nFurther Unpacked Elements:\")\n",
        "print(\"x1:\",x1)\n",
        "print(\"y2:\",y2)\n",
        "print(\"z3:\",z3)\n",
        "\n",
        "\n",
        "# Iterating and unpacking nested tuple\n",
        "for inner_tuple in nested_tuple:\n",
        "    a,b,c = inner_tuple\n",
        "    print(\"Unpacked elements of nested tuple:\", a,b,c)\n",
        "\n",
        "# Demonstrate a common error (too few variables for unpacking)\n",
        "# If you try to unpack into fewer variables than the inner tuples, you will get a ValueError:\n",
        "# try:\n",
        "#     a, b = nested_tuple[0]  # This will cause an error because the inner tuple has 3 elements\n",
        "#     print(a, b)\n",
        "# except ValueError as e:\n",
        "#     print(\"Error:\", e)\n",
        "\n"
      ],
      "metadata": {
        "id": "CQY-7qANT5hg"
      },
      "execution_count": null,
      "outputs": []
    },
    {
      "cell_type": "code",
      "source": [
        "# prompt: Create dictionary in python and its method and operations\n",
        "\n",
        "def create_and_manipulate_dictionary():\n",
        "    \"\"\"Creates a dictionary, demonstrates methods and operations.\"\"\"\n",
        "\n",
        "    my_dict = {}  # Create an empty dictionary\n",
        "\n",
        "    # Add key-value pairs\n",
        "    my_dict[\"name\"] = \"Alice\"\n",
        "    my_dict[\"age\"] = 30\n",
        "    my_dict[\"city\"] = \"New York\"\n",
        "\n",
        "    print(\"Initial dictionary:\", my_dict)\n",
        "\n",
        "    # Accessing values\n",
        "    print(\"Name:\", my_dict[\"name\"])\n",
        "    print(\"Age:\", my_dict.get(\"age\"))  # Using get() to handle missing keys gracefully\n",
        "\n",
        "    # Check if a key exists\n",
        "    if \"city\" in my_dict:\n",
        "        print(\"City exists in the dictionary\")\n",
        "\n",
        "\n",
        "    # Modify a value\n",
        "    my_dict[\"age\"] = 31\n",
        "    print(\"Updated dictionary:\", my_dict)\n",
        "\n",
        "    # Remove a key-value pair\n",
        "    del my_dict[\"city\"]\n",
        "    print(\"Dictionary after removing 'city':\", my_dict)\n",
        "\n",
        "\n",
        "    # Iterate through keys\n",
        "    print(\"\\nIterating through keys:\")\n",
        "    for key in my_dict:\n",
        "        print(key)\n",
        "\n",
        "    # Iterate through values\n",
        "    print(\"\\nIterating through values:\")\n",
        "    for value in my_dict.values():\n",
        "        print(value)\n",
        "\n",
        "\n",
        "    # Iterate through key-value pairs\n",
        "    print(\"\\nIterating through key-value pairs:\")\n",
        "    for key, value in my_dict.items():\n",
        "        print(f\"Key: {key}, Value: {value}\")\n",
        "\n",
        "    # Dictionary comprehension\n",
        "    squares = {x: x**2 for x in range(5)}\n",
        "    print(\"\\nDictionary comprehension (squares):\", squares)\n",
        "\n",
        "    # Clear the dictionary\n",
        "    my_dict.clear()\n",
        "    print(\"Cleared dictionary:\", my_dict)\n",
        "\n",
        "\n",
        "# Call the function\n",
        "create_and_manipulate_dictionary()"
      ],
      "metadata": {
        "colab": {
          "base_uri": "https://localhost:8080/"
        },
        "id": "2Xe9rwmrT1hg",
        "outputId": "55e4e8d9-94f7-4e49-d844-f5e753178786"
      },
      "execution_count": 30,
      "outputs": [
        {
          "output_type": "stream",
          "name": "stdout",
          "text": [
            "Initial dictionary: {'name': 'Alice', 'age': 30, 'city': 'New York'}\n",
            "Name: Alice\n",
            "Age: 30\n",
            "City exists in the dictionary\n",
            "Updated dictionary: {'name': 'Alice', 'age': 31, 'city': 'New York'}\n",
            "Dictionary after removing 'city': {'name': 'Alice', 'age': 31}\n",
            "\n",
            "Iterating through keys:\n",
            "name\n",
            "age\n",
            "\n",
            "Iterating through values:\n",
            "Alice\n",
            "31\n",
            "\n",
            "Iterating through key-value pairs:\n",
            "Key: name, Value: Alice\n",
            "Key: age, Value: 31\n",
            "\n",
            "Dictionary comprehension (squares): {0: 0, 1: 1, 2: 4, 3: 9, 4: 16}\n",
            "Cleared dictionary: {}\n"
          ]
        }
      ]
    },
    {
      "cell_type": "code",
      "source": [
        "# prompt: shallow copy in dictionary\n",
        "\n",
        "import copy\n",
        "\n",
        "original_dict = {\"a\": 1, \"b\": [2, 3], \"c\": 4}\n",
        "\n",
        "# Shallow copy\n",
        "shallow_copy_dict = copy.copy(original_dict)\n",
        "\n",
        "# Modify the original dictionary\n",
        "original_dict[\"a\"] = 10\n",
        "original_dict[\"b\"].append(5)\n",
        "\n",
        "\n",
        "print(\"Original dictionary:\", original_dict)\n",
        "print(\"Shallow copy:\", shallow_copy_dict)"
      ],
      "metadata": {
        "colab": {
          "base_uri": "https://localhost:8080/"
        },
        "id": "1L9DWXhmX8pM",
        "outputId": "54c1e725-87e8-419c-d72b-8ff80e585bc3"
      },
      "execution_count": 31,
      "outputs": [
        {
          "output_type": "stream",
          "name": "stdout",
          "text": [
            "Original dictionary: {'a': 10, 'b': [2, 3, 5], 'c': 4}\n",
            "Shallow copy: {'a': 1, 'b': [2, 3, 5], 'c': 4}\n"
          ]
        }
      ]
    },
    {
      "cell_type": "code",
      "source": [
        "# prompt: use dictionary to count the frequency of elements in list with example\n",
        "\n",
        "def count_frequency(input_list):\n",
        "    \"\"\"Counts the frequency of elements in a list using a dictionary.\n",
        "\n",
        "    Args:\n",
        "        input_list: The list of elements.\n",
        "\n",
        "    Returns:\n",
        "        A dictionary where keys are the elements and values are their frequencies.\n",
        "    \"\"\"\n",
        "    frequency = {}\n",
        "    for item in input_list:\n",
        "        if item in frequency:\n",
        "            frequency[item] += 1\n",
        "        else:\n",
        "            frequency[item] = 1\n",
        "    return frequency\n",
        "\n",
        "# Example usage\n",
        "my_list = [1, 2, 2, 3, 3, 3, 4, 4, 4, 4, 5, 5, 5, 5, 5]\n",
        "element_counts = count_frequency(my_list)\n",
        "element_counts"
      ],
      "metadata": {
        "colab": {
          "base_uri": "https://localhost:8080/"
        },
        "id": "nA_Ek3_ZZjMn",
        "outputId": "786a3b25-94b4-41a9-f472-2fc0c130fa2a"
      },
      "execution_count": 33,
      "outputs": [
        {
          "output_type": "execute_result",
          "data": {
            "text/plain": [
              "{1: 1, 2: 2, 3: 3, 4: 4, 5: 5}"
            ]
          },
          "metadata": {},
          "execution_count": 33
        }
      ]
    },
    {
      "cell_type": "code",
      "source": [
        "# prompt: merge two dictionaries\n",
        "\n",
        "def merge_dictionaries(dict1, dict2):\n",
        "  \"\"\"Merges two dictionaries.\n",
        "\n",
        "  Args:\n",
        "    dict1: The first dictionary.\n",
        "    dict2: The second dictionary.\n",
        "\n",
        "  Returns:\n",
        "    A new dictionary containing all key-value pairs from both input dictionaries.\n",
        "    If a key exists in both dictionaries, the value from dict2 will be used.\n",
        "  \"\"\"\n",
        "  merged = dict1.copy()  # Create a copy to avoid modifying the original dict1\n",
        "  merged.update(dict2)  # Update with key-value pairs from dict2\n",
        "  return merged\n",
        "\n",
        "# Example usage\n",
        "dict_a = {\"a\": 1, \"b\": 2}\n",
        "dict_b = {\"c\": 3, \"d\": 4, \"b\": 5}  # Key \"b\" exists in both\n",
        "\n",
        "merged_dict = merge_dictionaries(dict_a, dict_b)\n",
        "print(merged_dict)  # Output: {'a': 1, 'b': 5, 'c': 3, 'd': 4}"
      ],
      "metadata": {
        "colab": {
          "base_uri": "https://localhost:8080/"
        },
        "id": "3gsu5JbreYLE",
        "outputId": "591cfe34-ae99-4c3b-9a9d-8d81403687b6"
      },
      "execution_count": 34,
      "outputs": [
        {
          "output_type": "stream",
          "name": "stdout",
          "text": [
            "{'a': 1, 'b': 5, 'c': 3, 'd': 4}\n"
          ]
        }
      ]
    },
    {
      "cell_type": "code",
      "source": [
        "# prompt: program for function and its operations in python with some examples and its methods with correct code, debug it\n",
        "\n",
        "import copy\n",
        "\n",
        "def sum_two_numbers(a, b):\n",
        "  \"\"\"\n",
        "  This function takes two numbers as input and returns their sum.\n",
        "  \"\"\"\n",
        "  return a + b\n",
        "\n",
        "# Example usage\n",
        "number1 = 10\n",
        "number2 = 5\n",
        "result = sum_two_numbers(number1, number2)\n",
        "print(f\"The sum of {number1} and {number2} is: {result}\")\n",
        "\n",
        "def is_leap_year(year):\n",
        "    \"\"\"\n",
        "    Checks if a given year is a leap year.\n",
        "\n",
        "    Args:\n",
        "        year: The year to check.\n",
        "\n",
        "    Returns:\n",
        "        True if the year is a leap year, False otherwise.\n",
        "    \"\"\"\n",
        "    if year % 4 != 0:\n",
        "        return False\n",
        "    elif year % 100 == 0:\n",
        "        if year % 400 == 0:\n",
        "            return True\n",
        "        else:\n",
        "            return False\n",
        "    else:\n",
        "        return True\n",
        "\n",
        "# Example usage\n",
        "year_to_check = 2024\n",
        "if is_leap_year(year_to_check):\n",
        "    print(f\"{year_to_check} is a leap year.\")\n",
        "else:\n",
        "    print(f\"{year_to_check} is not a leap year.\")\n",
        "\n",
        "def calculator():\n",
        "    \"\"\"Performs basic arithmetic operations.\"\"\"\n",
        "\n",
        "    while True:\n",
        "        print(\"\\nSelect operation:\")\n",
        "        print(\"1. Add\")\n",
        "        print(\"2. Subtract\")\n",
        "        print(\"3. Multiply\")\n",
        "        print(\"4. Divide\")\n",
        "        print(\"5. Modulo\")\n",
        "        print(\"6. Exit\")\n",
        "\n",
        "        choice = input(\"Enter choice(1/2/3/4/5/6): \")\n",
        "\n",
        "        if choice in ('1', '2', '3', '4', '5'):\n",
        "            try:\n",
        "                num1 = float(input(\"Enter first number: \"))\n",
        "                num2 = float(input(\"Enter second number: \"))\n",
        "            except ValueError:\n",
        "                print(\"Invalid input. Please enter numbers only.\")\n",
        "                continue\n",
        "\n",
        "            if choice == '1':\n",
        "                print(num1, \"+\", num2, \"=\", num1 + num2)\n",
        "            elif choice == '2':\n",
        "                print(num1, \"-\", num2, \"=\", num1 - num2)\n",
        "            elif choice == '3':\n",
        "                print(num1, \"*\", num2, \"=\", num1 * num2)\n",
        "            elif choice == '4':\n",
        "                if num2 == 0:\n",
        "                    print(\"Division by zero error.\")\n",
        "                else:\n",
        "                    print(num1, \"/\", num2, \"=\", num1 / num2)\n",
        "            elif choice == '5':\n",
        "                print(num1, \"%\", num2, \"=\", num1 % num2)\n",
        "        elif choice == '6':\n",
        "            break\n",
        "        else:\n",
        "            print(\"Invalid Input\")\n",
        "\n",
        "if __name__ == \"__main__\":\n",
        "    calculator()"
      ],
      "metadata": {
        "colab": {
          "base_uri": "https://localhost:8080/"
        },
        "id": "KkHO6SN4ehIa",
        "outputId": "b43b10ac-0a92-44e4-dbb5-2522ec12ef79"
      },
      "execution_count": 36,
      "outputs": [
        {
          "name": "stdout",
          "output_type": "stream",
          "text": [
            "The sum of 10 and 5 is: 15\n",
            "2024 is a leap year.\n",
            "\n",
            "Select operation:\n",
            "1. Add\n",
            "2. Subtract\n",
            "3. Multiply\n",
            "4. Divide\n",
            "5. Modulo\n",
            "6. Exit\n",
            "Enter choice(1/2/3/4/5/6): 1\n",
            "Enter first number: 2\n",
            "Enter second number: 2\n",
            "2.0 + 2.0 = 4.0\n",
            "\n",
            "Select operation:\n",
            "1. Add\n",
            "2. Subtract\n",
            "3. Multiply\n",
            "4. Divide\n",
            "5. Modulo\n",
            "6. Exit\n",
            "Enter choice(1/2/3/4/5/6): 6\n"
          ]
        }
      ]
    },
    {
      "cell_type": "code",
      "source": [
        "# prompt: variable length argument , positional and keyword argument program in python\n",
        "\n",
        "def variable_length_arguments(*args, **kwargs):\n",
        "  \"\"\"\n",
        "  Demonstrates variable-length arguments (positional and keyword) in Python.\n",
        "\n",
        "  Args:\n",
        "      *args: A tuple containing positional arguments.\n",
        "      **kwargs: A dictionary containing keyword arguments.\n",
        "  \"\"\"\n",
        "\n",
        "  print(\"Positional arguments (args):\", args)\n",
        "  print(\"Keyword arguments (kwargs):\", kwargs)\n",
        "\n",
        "  # Process positional arguments\n",
        "  for arg in args:\n",
        "    print(\"Processing positional argument:\", arg)\n",
        "\n",
        "  # Process keyword arguments\n",
        "  for key, value in kwargs.items():\n",
        "    print(f\"Processing keyword argument: {key} = {value}\")\n",
        "\n",
        "\n",
        "# Example usage with different types of arguments\n",
        "variable_length_arguments(1, 2, 3, name=\"Alice\", age=30, city=\"New York\")\n",
        "print(\"-\" * 20) # separator\n",
        "variable_length_arguments(\"hello\", \"world\")\n",
        "print(\"-\" * 20) # separator\n",
        "variable_length_arguments(a=1, b=2, c=3)"
      ],
      "metadata": {
        "colab": {
          "base_uri": "https://localhost:8080/"
        },
        "id": "9O9C1ehrlT9B",
        "outputId": "52861733-493a-41fc-80f6-fbdec69c5775"
      },
      "execution_count": 37,
      "outputs": [
        {
          "output_type": "stream",
          "name": "stdout",
          "text": [
            "Positional arguments (args): (1, 2, 3)\n",
            "Keyword arguments (kwargs): {'name': 'Alice', 'age': 30, 'city': 'New York'}\n",
            "Processing positional argument: 1\n",
            "Processing positional argument: 2\n",
            "Processing positional argument: 3\n",
            "Processing keyword argument: name = Alice\n",
            "Processing keyword argument: age = 30\n",
            "Processing keyword argument: city = New York\n",
            "--------------------\n",
            "Positional arguments (args): ('hello', 'world')\n",
            "Keyword arguments (kwargs): {}\n",
            "Processing positional argument: hello\n",
            "Processing positional argument: world\n",
            "--------------------\n",
            "Positional arguments (args): ()\n",
            "Keyword arguments (kwargs): {'a': 1, 'b': 2, 'c': 3}\n",
            "Processing keyword argument: a = 1\n",
            "Processing keyword argument: b = 2\n",
            "Processing keyword argument: c = 3\n"
          ]
        }
      ]
    },
    {
      "cell_type": "code",
      "source": [
        "# prompt: Function for temperature conversion\n",
        "\n",
        "def convert_temperature(temperature, scale_from, scale_to):\n",
        "    \"\"\"Converts temperature between Celsius, Fahrenheit, and Kelvin.\n",
        "\n",
        "    Args:\n",
        "        temperature: The temperature value to convert.\n",
        "        scale_from: The original temperature scale (\"C\", \"F\", or \"K\").\n",
        "        scale_to: The target temperature scale (\"C\", \"F\", or \"K\").\n",
        "\n",
        "    Returns:\n",
        "        The converted temperature value, or None if the input is invalid.\n",
        "    \"\"\"\n",
        "\n",
        "    if scale_from.upper() == \"C\":\n",
        "        if scale_to.upper() == \"F\":\n",
        "            return (temperature * 9/5) + 32\n",
        "        elif scale_to.upper() == \"K\":\n",
        "            return temperature + 273.15\n",
        "        elif scale_from.upper() == scale_to.upper():\n",
        "            return temperature\n",
        "    elif scale_from.upper() == \"F\":\n",
        "        if scale_to.upper() == \"C\":\n",
        "            return (temperature - 32) * 5/9\n",
        "        elif scale_to.upper() == \"K\":\n",
        "            return (temperature - 32) * 5/9 + 273.15\n",
        "        elif scale_from.upper() == scale_to.upper():\n",
        "            return temperature\n",
        "    elif scale_from.upper() == \"K\":\n",
        "        if scale_to.upper() == \"C\":\n",
        "            return temperature - 273.15\n",
        "        elif scale_to.upper() == \"F\":\n",
        "            return (temperature - 273.15) * 9/5 + 32\n",
        "        elif scale_from.upper() == scale_to.upper():\n",
        "            return temperature\n",
        "\n",
        "    return None # Handle invalid input\n",
        "\n",
        "# Example usage\n",
        "temperature_value = 25\n",
        "original_scale = \"C\"\n",
        "target_scale = \"F\"\n",
        "\n",
        "converted_temperature = convert_temperature(temperature_value, original_scale, target_scale)\n",
        "\n",
        "if converted_temperature is not None:\n",
        "    print(f\"{temperature_value}{original_scale} is equal to {converted_temperature}{target_scale}\")\n",
        "else:\n",
        "    print(\"Invalid input scales.\")"
      ],
      "metadata": {
        "colab": {
          "base_uri": "https://localhost:8080/"
        },
        "id": "Fb_SLIxhmAem",
        "outputId": "f192c485-20bd-4e24-97d0-d98c735d7af9"
      },
      "execution_count": 38,
      "outputs": [
        {
          "output_type": "stream",
          "name": "stdout",
          "text": [
            "25C is equal to 77.0F\n"
          ]
        }
      ]
    },
    {
      "cell_type": "code",
      "source": [
        "# prompt: function for password strength checker\n",
        "\n",
        "import re\n",
        "\n",
        "def password_strength_checker(password):\n",
        "    \"\"\"\n",
        "    Checks the strength of a password based on several criteria.\n",
        "\n",
        "    Args:\n",
        "        password: The password string to check.\n",
        "\n",
        "    Returns:\n",
        "        A string indicating the password strength (\"Weak\", \"Medium\", \"Strong\").\n",
        "    \"\"\"\n",
        "\n",
        "    length = len(password)\n",
        "    has_uppercase = re.search(r'[A-Z]', password) is not None\n",
        "    has_lowercase = re.search(r'[a-z]', password) is not None\n",
        "    has_digit = re.search(r'\\d', password) is not None\n",
        "    has_symbol = re.search(r'[!@#$%^&*()_+{}\\[\\]:;<>,.?~\\\\/-]', password) is not None\n",
        "\n",
        "    if length < 8:\n",
        "        return \"Weak\"\n",
        "    elif length >= 8 and (has_uppercase + has_lowercase + has_digit + has_symbol) >= 2:\n",
        "        return \"Medium\"\n",
        "    elif length >= 8 and (has_uppercase + has_lowercase + has_digit + has_symbol) >= 3:\n",
        "        return \"Strong\"\n",
        "    else:\n",
        "      return \"Weak\"\n",
        "\n",
        "# Example usage\n",
        "password1 = \"short\"\n",
        "password2 = \"Short123\"\n",
        "password3 = \"StrongPassw0rd!1gen@#i\"\n",
        "\n",
        "print(f\"'{password1}' strength: {password_strength_checker(password1)}\")  # Output: Weak\n",
        "print(f\"'{password2}' strength: {password_strength_checker(password2)}\")  # Output: Medium\n",
        "print(f\"'{password3}' strength: {password_strength_checker(password3)}\")  # Output: Strong"
      ],
      "metadata": {
        "colab": {
          "base_uri": "https://localhost:8080/"
        },
        "id": "VBMUAgqRn7Ig",
        "outputId": "33b2874d-74c7-4b8b-bc06-630ff6e6d9d0"
      },
      "execution_count": 43,
      "outputs": [
        {
          "output_type": "stream",
          "name": "stdout",
          "text": [
            "'short' strength: Weak\n",
            "'Short123' strength: Medium\n",
            "'StrongPassw0rd!1gen@#i' strength: Medium\n"
          ]
        }
      ]
    },
    {
      "cell_type": "code",
      "source": [
        "# prompt: Function to calculate the total cost of item in a shopping cart with example\n",
        "\n",
        "def calculate_total_cost(cart):\n",
        "    \"\"\"Calculates the total cost of items in a shopping cart.\n",
        "\n",
        "    Args:\n",
        "        cart: A dictionary where keys are item names and values are their prices.\n",
        "\n",
        "    Returns:\n",
        "        The total cost of all items in the cart.\n",
        "    \"\"\"\n",
        "    total_cost = 0\n",
        "    for item, price in cart.items():\n",
        "        total_cost += price\n",
        "    return total_cost\n",
        "\n",
        "\n",
        "# Example usage\n",
        "shopping_cart = {\n",
        "    \"apple\": 1.0,\n",
        "    \"banana\": 0.5,\n",
        "    \"orange\": 0.75\n",
        "}\n",
        "\n",
        "total = calculate_total_cost(shopping_cart)\n",
        "print(f\"The total cost of items in the cart is: ${total}\")"
      ],
      "metadata": {
        "colab": {
          "base_uri": "https://localhost:8080/"
        },
        "id": "3j3LnucKpo0y",
        "outputId": "40fd0551-9a9d-4146-f33f-5d9dddc87923"
      },
      "execution_count": 44,
      "outputs": [
        {
          "output_type": "stream",
          "name": "stdout",
          "text": [
            "The total cost of items in the cart is: $2.25\n"
          ]
        }
      ]
    },
    {
      "cell_type": "code",
      "source": [
        "# prompt: Function to check if a string is palindrome\n",
        "\n",
        "def is_palindrome(text):\n",
        "    \"\"\"\n",
        "    Checks if a given string is a palindrome (reads the same forwards and backward).\n",
        "\n",
        "    Args:\n",
        "        text: The string to check.\n",
        "\n",
        "    Returns:\n",
        "        True if the string is a palindrome, False otherwise.\n",
        "    \"\"\"\n",
        "    processed_text = ''.join(filter(str.isalnum, text)).lower()\n",
        "    return processed_text == processed_text[::-1]\n",
        "\n",
        "# Example usage\n",
        "string1 = \"racecar\"\n",
        "string2 = \"A man, a plan, a canal: Panama\"\n",
        "string3 = \"hello\"\n",
        "\n",
        "print(f\"'{string1}' is a palindrome: {is_palindrome(string1)}\")  # Output: True\n",
        "print(f\"'{string2}' is a palindrome: {is_palindrome(string2)}\")  # Output: True\n",
        "print(f\"'{string3}' is a palindrome: {is_palindrome(string3)}\")  # Output: False"
      ],
      "metadata": {
        "colab": {
          "base_uri": "https://localhost:8080/"
        },
        "id": "pJrBL_Idp2JA",
        "outputId": "b62108ca-c8a1-4289-c067-82ee79eccf6c"
      },
      "execution_count": 45,
      "outputs": [
        {
          "output_type": "stream",
          "name": "stdout",
          "text": [
            "'racecar' is a palindrome: True\n",
            "'A man, a plan, a canal: Panama' is a palindrome: True\n",
            "'hello' is a palindrome: False\n"
          ]
        }
      ]
    },
    {
      "cell_type": "code",
      "source": [],
      "metadata": {
        "id": "g5Eujqv4qqhD"
      },
      "execution_count": null,
      "outputs": []
    },
    {
      "cell_type": "code",
      "source": [],
      "metadata": {
        "id": "7eKbsgmro-vY"
      },
      "execution_count": null,
      "outputs": []
    },
    {
      "cell_type": "code",
      "source": [],
      "metadata": {
        "id": "x2CaWlroo7Px"
      },
      "execution_count": null,
      "outputs": []
    },
    {
      "cell_type": "code",
      "source": [],
      "metadata": {
        "id": "SQXBAKkyozcA"
      },
      "execution_count": null,
      "outputs": []
    },
    {
      "cell_type": "code",
      "source": [],
      "metadata": {
        "id": "iGsFfa0tk8_4"
      },
      "execution_count": null,
      "outputs": []
    },
    {
      "cell_type": "code",
      "source": [],
      "metadata": {
        "id": "r21GHcsGeSN8"
      },
      "execution_count": null,
      "outputs": []
    },
    {
      "cell_type": "code",
      "source": [],
      "metadata": {
        "id": "dodS0ItvTzcT"
      },
      "execution_count": null,
      "outputs": []
    }
  ]
}