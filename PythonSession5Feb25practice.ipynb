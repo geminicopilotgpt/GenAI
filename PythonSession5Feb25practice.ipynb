{
  "nbformat": 4,
  "nbformat_minor": 0,
  "metadata": {
    "colab": {
      "provenance": [],
      "authorship_tag": "ABX9TyNymZEUXzAQoJybpUA1YcOV",
      "include_colab_link": true
    },
    "kernelspec": {
      "name": "python3",
      "display_name": "Python 3"
    },
    "language_info": {
      "name": "python"
    }
  },
  "cells": [
    {
      "cell_type": "markdown",
      "metadata": {
        "id": "view-in-github",
        "colab_type": "text"
      },
      "source": [
        "<a href=\"https://colab.research.google.com/github/geminicopilotgpt/GenAI/blob/main/PythonSession5Feb25practice.ipynb\" target=\"_parent\"><img src=\"https://colab.research.google.com/assets/colab-badge.svg\" alt=\"Open In Colab\"/></a>"
      ]
    },
    {
      "cell_type": "code",
      "execution_count": 1,
      "metadata": {
        "colab": {
          "base_uri": "https://localhost:8080/"
        },
        "id": "x8NkELgoMXL6",
        "outputId": "1b71f7da-8d35-4c5d-c48b-e275d6c32d27"
      },
      "outputs": [
        {
          "name": "stdout",
          "output_type": "stream",
          "text": [
            "Enter value:1\n"
          ]
        },
        {
          "output_type": "execute_result",
          "data": {
            "text/plain": [
              "{}"
            ]
          },
          "metadata": {},
          "execution_count": 1
        }
      ],
      "source": [
        "mydict1={}\n",
        "no=input(\"Enter value:\")\n",
        "mydict1"
      ]
    },
    {
      "cell_type": "code",
      "source": [
        "mydict1={}\n",
        "no=int(input(\"Enter N val:\"))#3\n",
        "\n",
        "for _ in range(no):\n",
        "    key=input(\"Enter key:\")\n",
        "    value=input(\"Enter value:\")\n",
        "    mydict1[key]=value\n",
        "\n",
        "mydict1"
      ],
      "metadata": {
        "colab": {
          "base_uri": "https://localhost:8080/"
        },
        "id": "9pPjJYp3MX3I",
        "outputId": "6ee91be6-dfab-42e5-80b7-b0a96802c055"
      },
      "execution_count": 2,
      "outputs": [
        {
          "name": "stdout",
          "output_type": "stream",
          "text": [
            "Enter N val:2\n",
            "Enter key:1\n",
            "Enter value:1\n",
            "Enter key:2\n",
            "Enter value:\n"
          ]
        },
        {
          "output_type": "execute_result",
          "data": {
            "text/plain": [
              "{'1': '1', '2': ''}"
            ]
          },
          "metadata": {},
          "execution_count": 2
        }
      ]
    },
    {
      "cell_type": "code",
      "source": [
        "12"
      ],
      "metadata": {
        "id": "E9q2XYJQMet2"
      },
      "execution_count": null,
      "outputs": []
    },
    {
      "cell_type": "code",
      "source": [
        "mydict={1:'hi','a':123,100:32.4}\n",
        "mydict[1]"
      ],
      "metadata": {
        "colab": {
          "base_uri": "https://localhost:8080/",
          "height": 36
        },
        "id": "9lIsm3GDNGyX",
        "outputId": "d929ffd8-6dba-4b68-ddb1-f7af7cf55284"
      },
      "execution_count": 3,
      "outputs": [
        {
          "output_type": "execute_result",
          "data": {
            "text/plain": [
              "'hi'"
            ],
            "application/vnd.google.colaboratory.intrinsic+json": {
              "type": "string"
            }
          },
          "metadata": {},
          "execution_count": 3
        }
      ]
    },
    {
      "cell_type": "code",
      "source": [
        "del mydict[1]"
      ],
      "metadata": {
        "id": "pIFXuK_iNNe_"
      },
      "execution_count": 5,
      "outputs": []
    },
    {
      "cell_type": "code",
      "source": [
        "mydict"
      ],
      "metadata": {
        "colab": {
          "base_uri": "https://localhost:8080/"
        },
        "id": "bBJKokQ5QC8y",
        "outputId": "2d2282e1-0270-4c6a-8b79-e04f6861c33d"
      },
      "execution_count": 6,
      "outputs": [
        {
          "output_type": "execute_result",
          "data": {
            "text/plain": [
              "{'a': 123, 100: 32.4}"
            ]
          },
          "metadata": {},
          "execution_count": 6
        }
      ]
    },
    {
      "cell_type": "code",
      "source": [
        "empinfo={'Empname':'Sugan','EmpID':123,'Loc':'Chn','Mobile':987654321}\n",
        "empinfo"
      ],
      "metadata": {
        "colab": {
          "base_uri": "https://localhost:8080/"
        },
        "id": "3IkjzgkOQED0",
        "outputId": "98fb4dc2-d6d6-4ecc-e8c2-da3b07b8aafc"
      },
      "execution_count": 7,
      "outputs": [
        {
          "output_type": "execute_result",
          "data": {
            "text/plain": [
              "{'Empname': 'Sugan', 'EmpID': 123, 'Loc': 'Chn', 'Mobile': 987654321}"
            ]
          },
          "metadata": {},
          "execution_count": 7
        }
      ]
    },
    {
      "cell_type": "code",
      "source": [
        "empinfo['Empname']"
      ],
      "metadata": {
        "colab": {
          "base_uri": "https://localhost:8080/",
          "height": 36
        },
        "id": "3leIqe7SQ4uj",
        "outputId": "56be20b5-640d-4af7-8537-f96e2fb431d9"
      },
      "execution_count": 8,
      "outputs": [
        {
          "output_type": "execute_result",
          "data": {
            "text/plain": [
              "'Sugan'"
            ],
            "application/vnd.google.colaboratory.intrinsic+json": {
              "type": "string"
            }
          },
          "metadata": {},
          "execution_count": 8
        }
      ]
    },
    {
      "cell_type": "code",
      "source": [
        "empinfo.update({'1':'Red','2':'Yellow'})\n",
        "empinfo"
      ],
      "metadata": {
        "colab": {
          "base_uri": "https://localhost:8080/"
        },
        "id": "aIYDvshzQ7C3",
        "outputId": "2d59bfb1-c2ef-4181-ca17-ed004e4083cc"
      },
      "execution_count": 9,
      "outputs": [
        {
          "output_type": "execute_result",
          "data": {
            "text/plain": [
              "{'Empname': 'Sugan',\n",
              " 'EmpID': 123,\n",
              " 'Loc': 'Chn',\n",
              " 'Mobile': 987654321,\n",
              " '1': 'Red',\n",
              " '2': 'Yellow'}"
            ]
          },
          "metadata": {},
          "execution_count": 9
        }
      ]
    },
    {
      "cell_type": "code",
      "source": [
        "dict2=empinfo.copy()\n",
        "dict2"
      ],
      "metadata": {
        "colab": {
          "base_uri": "https://localhost:8080/"
        },
        "id": "3lqT5-CARUFC",
        "outputId": "d951d932-717d-4502-baaa-5b3831530fa2"
      },
      "execution_count": 10,
      "outputs": [
        {
          "output_type": "execute_result",
          "data": {
            "text/plain": [
              "{'Empname': 'Sugan',\n",
              " 'EmpID': 123,\n",
              " 'Loc': 'Chn',\n",
              " 'Mobile': 987654321,\n",
              " '1': 'Red',\n",
              " '2': 'Yellow'}"
            ]
          },
          "metadata": {},
          "execution_count": 10
        }
      ]
    },
    {
      "cell_type": "code",
      "source": [
        "dict2.pop('2')"
      ],
      "metadata": {
        "colab": {
          "base_uri": "https://localhost:8080/",
          "height": 36
        },
        "id": "74rwXpAVRk-s",
        "outputId": "da01c6a2-0110-44d0-e9f7-5c0bdc2bccd5"
      },
      "execution_count": 11,
      "outputs": [
        {
          "output_type": "execute_result",
          "data": {
            "text/plain": [
              "'Yellow'"
            ],
            "application/vnd.google.colaboratory.intrinsic+json": {
              "type": "string"
            }
          },
          "metadata": {},
          "execution_count": 11
        }
      ]
    },
    {
      "cell_type": "code",
      "source": [
        "dict2"
      ],
      "metadata": {
        "colab": {
          "base_uri": "https://localhost:8080/"
        },
        "id": "SQAjKHb7SAez",
        "outputId": "1bf55834-76fc-478d-8674-ee7978c90648"
      },
      "execution_count": 12,
      "outputs": [
        {
          "output_type": "execute_result",
          "data": {
            "text/plain": [
              "{'Empname': 'Sugan',\n",
              " 'EmpID': 123,\n",
              " 'Loc': 'Chn',\n",
              " 'Mobile': 987654321,\n",
              " '1': 'Red'}"
            ]
          },
          "metadata": {},
          "execution_count": 12
        }
      ]
    },
    {
      "cell_type": "code",
      "source": [
        "dict2.popitem() #LIFO(stack) - last element will get removed\n",
        "dict2"
      ],
      "metadata": {
        "colab": {
          "base_uri": "https://localhost:8080/"
        },
        "id": "IGryYqb9SBZX",
        "outputId": "4c919a78-557c-4d3b-b38c-6fbf08cad491"
      },
      "execution_count": 13,
      "outputs": [
        {
          "output_type": "execute_result",
          "data": {
            "text/plain": [
              "{'Empname': 'Sugan', 'EmpID': 123, 'Loc': 'Chn', 'Mobile': 987654321}"
            ]
          },
          "metadata": {},
          "execution_count": 13
        }
      ]
    },
    {
      "cell_type": "code",
      "source": [
        "dict2.clear() #clear the entire dictionary, make it empty"
      ],
      "metadata": {
        "id": "ya39UqgvSOfF"
      },
      "execution_count": 16,
      "outputs": []
    },
    {
      "cell_type": "code",
      "source": [
        "dict2"
      ],
      "metadata": {
        "colab": {
          "base_uri": "https://localhost:8080/"
        },
        "id": "p8Wrd_QcT0Z-",
        "outputId": "b9811e8e-1d62-4620-a457-f380e333c4c5"
      },
      "execution_count": 17,
      "outputs": [
        {
          "output_type": "execute_result",
          "data": {
            "text/plain": [
              "{}"
            ]
          },
          "metadata": {},
          "execution_count": 17
        }
      ]
    },
    {
      "cell_type": "code",
      "source": [
        "empinfo.keys()"
      ],
      "metadata": {
        "colab": {
          "base_uri": "https://localhost:8080/"
        },
        "id": "rHn1-bBhT7mZ",
        "outputId": "113f1ab2-cbe1-4ec1-ba99-adb42a99355f"
      },
      "execution_count": 20,
      "outputs": [
        {
          "output_type": "execute_result",
          "data": {
            "text/plain": [
              "dict_keys(['Empname', 'EmpID', 'Loc', 'Mobile', '1', '2'])"
            ]
          },
          "metadata": {},
          "execution_count": 20
        }
      ]
    },
    {
      "cell_type": "code",
      "source": [
        "empinfo.values()"
      ],
      "metadata": {
        "colab": {
          "base_uri": "https://localhost:8080/"
        },
        "id": "5YhLu7RqUJpW",
        "outputId": "25ee62d1-e259-4a06-cf15-9c43e760501a"
      },
      "execution_count": 21,
      "outputs": [
        {
          "output_type": "execute_result",
          "data": {
            "text/plain": [
              "dict_values(['Sugan', 123, 'Chn', 987654321, 'Red', 'Yellow'])"
            ]
          },
          "metadata": {},
          "execution_count": 21
        }
      ]
    },
    {
      "cell_type": "code",
      "source": [
        "empinfo.items() #o/p list of tuples"
      ],
      "metadata": {
        "colab": {
          "base_uri": "https://localhost:8080/"
        },
        "id": "5_bVyQ6RUX3f",
        "outputId": "df36a29a-2602-4928-c8b1-1f0515cd62a2"
      },
      "execution_count": 22,
      "outputs": [
        {
          "output_type": "execute_result",
          "data": {
            "text/plain": [
              "dict_items([('Empname', 'Sugan'), ('EmpID', 123), ('Loc', 'Chn'), ('Mobile', 987654321), ('1', 'Red'), ('2', 'Yellow')])"
            ]
          },
          "metadata": {},
          "execution_count": 22
        }
      ]
    },
    {
      "cell_type": "code",
      "source": [
        "#fromkeys\n",
        "tup=('a','b','c','d','e')\n",
        "mydict=dict.fromkeys(tup,100)\n",
        "mydict"
      ],
      "metadata": {
        "colab": {
          "base_uri": "https://localhost:8080/"
        },
        "id": "hD5FHfV2UoGi",
        "outputId": "c6d3aa52-bcfa-4ddb-96fd-dc40b592a65d"
      },
      "execution_count": 23,
      "outputs": [
        {
          "output_type": "execute_result",
          "data": {
            "text/plain": [
              "{'a': 100, 'b': 100, 'c': 100, 'd': 100, 'e': 100}"
            ]
          },
          "metadata": {},
          "execution_count": 23
        }
      ]
    },
    {
      "cell_type": "code",
      "source": [
        "#fromkeys\n",
        "tup=['a','b','c','d','e']\n",
        "mydict=dict.fromkeys(tup)\n",
        "mydict"
      ],
      "metadata": {
        "colab": {
          "base_uri": "https://localhost:8080/"
        },
        "id": "vEWE45HEVG2U",
        "outputId": "c977a46f-4954-4382-931e-b6c69113ae71"
      },
      "execution_count": 24,
      "outputs": [
        {
          "output_type": "execute_result",
          "data": {
            "text/plain": [
              "{'a': None, 'b': None, 'c': None, 'd': None, 'e': None}"
            ]
          },
          "metadata": {},
          "execution_count": 24
        }
      ]
    },
    {
      "cell_type": "code",
      "source": [
        "for var in mydict:\n",
        "  print(var)"
      ],
      "metadata": {
        "colab": {
          "base_uri": "https://localhost:8080/"
        },
        "id": "fkZybiE5VZgk",
        "outputId": "ccb4d230-8f59-4c41-de2e-caf0646bc4db"
      },
      "execution_count": 25,
      "outputs": [
        {
          "output_type": "stream",
          "name": "stdout",
          "text": [
            "a\n",
            "b\n",
            "c\n",
            "d\n",
            "e\n"
          ]
        }
      ]
    },
    {
      "cell_type": "code",
      "source": [
        "for var in mydict: #=key,value\n",
        "  mydict[var]=input()\n",
        "\n",
        "mydict"
      ],
      "metadata": {
        "colab": {
          "base_uri": "https://localhost:8080/"
        },
        "id": "oFpwoGbuViet",
        "outputId": "8920365f-db72-410a-c32e-7fec81a19387"
      },
      "execution_count": 26,
      "outputs": [
        {
          "name": "stdout",
          "output_type": "stream",
          "text": [
            "10\n",
            "20\n",
            "30\n",
            "40\n",
            "50\n"
          ]
        },
        {
          "output_type": "execute_result",
          "data": {
            "text/plain": [
              "{'a': '10', 'b': '20', 'c': '30', 'd': '40', 'e': '50'}"
            ]
          },
          "metadata": {},
          "execution_count": 26
        }
      ]
    },
    {
      "cell_type": "code",
      "source": [
        "#setdefault\n",
        "dict3={\n",
        "    'Empname':'Sugan',\n",
        "    'Loc':'Chn',\n",
        "    'Mobile':987654321\n",
        "}\n",
        "dict3"
      ],
      "metadata": {
        "colab": {
          "base_uri": "https://localhost:8080/"
        },
        "id": "7rnS4mtOWHK1",
        "outputId": "6b06ed5b-3131-47a8-d360-474f1a83656a"
      },
      "execution_count": 27,
      "outputs": [
        {
          "output_type": "execute_result",
          "data": {
            "text/plain": [
              "{'Empname': 'Sugan', 'Loc': 'Chn', 'Mobile': 987654321}"
            ]
          },
          "metadata": {},
          "execution_count": 27
        }
      ]
    },
    {
      "cell_type": "code",
      "source": [
        "print(dict3.setdefault('Domain'))\n",
        "print(dict3)\n",
        "print(dict3.setdefault('Loc')) #if it is already present, it will not get added to the dictionary\n",
        "print(dict3)\n",
        "print(dict3.setdefault('Des','Trainer'))\n",
        "print(dict3)"
      ],
      "metadata": {
        "colab": {
          "base_uri": "https://localhost:8080/"
        },
        "id": "Bpic4VBxXOkY",
        "outputId": "b33dbc43-889f-4978-d51f-7393302d28ad"
      },
      "execution_count": 29,
      "outputs": [
        {
          "output_type": "stream",
          "name": "stdout",
          "text": [
            "None\n",
            "{'Empname': 'Sugan', 'Loc': 'Chn', 'Mobile': 987654321, 'Domain': None}\n",
            "Chn\n",
            "{'Empname': 'Sugan', 'Loc': 'Chn', 'Mobile': 987654321, 'Domain': None}\n",
            "Trainer\n",
            "{'Empname': 'Sugan', 'Loc': 'Chn', 'Mobile': 987654321, 'Domain': None, 'Des': 'Trainer'}\n"
          ]
        }
      ]
    },
    {
      "cell_type": "code",
      "source": [
        "#Nested Dictionary\n",
        "mydict={1:'hi','abc':123,'color':{1:'Blue',2:'Orange',3:'Red'},5:'Python'}\n",
        "mydict"
      ],
      "metadata": {
        "colab": {
          "base_uri": "https://localhost:8080/"
        },
        "id": "RZPSXC59XkEC",
        "outputId": "afb1c322-d369-4526-ab6b-319e70aae2ff"
      },
      "execution_count": 30,
      "outputs": [
        {
          "output_type": "execute_result",
          "data": {
            "text/plain": [
              "{1: 'hi', 'abc': 123, 'color': {1: 'Blue', 2: 'Orange', 3: 'Red'}, 5: 'Python'}"
            ]
          },
          "metadata": {},
          "execution_count": 30
        }
      ]
    },
    {
      "cell_type": "code",
      "source": [
        "mydict[1]"
      ],
      "metadata": {
        "colab": {
          "base_uri": "https://localhost:8080/",
          "height": 36
        },
        "id": "fgc6nSMBYVtF",
        "outputId": "35f1be6e-fd95-43a9-adc0-689fd5a744ee"
      },
      "execution_count": 31,
      "outputs": [
        {
          "output_type": "execute_result",
          "data": {
            "text/plain": [
              "'hi'"
            ],
            "application/vnd.google.colaboratory.intrinsic+json": {
              "type": "string"
            }
          },
          "metadata": {},
          "execution_count": 31
        }
      ]
    },
    {
      "cell_type": "code",
      "source": [
        "mydict['color']"
      ],
      "metadata": {
        "colab": {
          "base_uri": "https://localhost:8080/"
        },
        "id": "VVq_HI5jYW89",
        "outputId": "33552368-d3ad-44dd-e06f-9aa1aa76e270"
      },
      "execution_count": 32,
      "outputs": [
        {
          "output_type": "execute_result",
          "data": {
            "text/plain": [
              "{1: 'Blue', 2: 'Orange', 3: 'Red'}"
            ]
          },
          "metadata": {},
          "execution_count": 32
        }
      ]
    },
    {
      "cell_type": "code",
      "source": [
        "mydict['color'][2]"
      ],
      "metadata": {
        "colab": {
          "base_uri": "https://localhost:8080/",
          "height": 36
        },
        "id": "u_vZWMaHYYLt",
        "outputId": "a57798c3-f2d4-43e2-d27d-4c917aff5ad3"
      },
      "execution_count": 33,
      "outputs": [
        {
          "output_type": "execute_result",
          "data": {
            "text/plain": [
              "'Orange'"
            ],
            "application/vnd.google.colaboratory.intrinsic+json": {
              "type": "string"
            }
          },
          "metadata": {},
          "execution_count": 33
        }
      ]
    },
    {
      "cell_type": "code",
      "source": [
        "#dictionary comprehension\n",
        "dict3\n"
      ],
      "metadata": {
        "colab": {
          "base_uri": "https://localhost:8080/"
        },
        "id": "6VcLnlv0YaHw",
        "outputId": "d305d453-20bf-4c8b-dce8-fe2775d88947"
      },
      "execution_count": 34,
      "outputs": [
        {
          "output_type": "execute_result",
          "data": {
            "text/plain": [
              "{'Empname': 'Sugan',\n",
              " 'Loc': 'Chn',\n",
              " 'Mobile': 987654321,\n",
              " 'Domain': None,\n",
              " 'Des': 'Trainer'}"
            ]
          },
          "metadata": {},
          "execution_count": 34
        }
      ]
    },
    {
      "cell_type": "markdown",
      "source": [
        "{key:value for itr in seq}\n",
        "\n",
        "itr in seq = will iterate over all the elements in the dictionary\n",
        "\n",
        "key:value = will print the element iterated by itr"
      ],
      "metadata": {
        "id": "9lKApFWgZ6ry"
      }
    },
    {
      "cell_type": "code",
      "source": [
        "{k:v for (k,v) in dict3.items()} #item=>tuple\n",
        "#(k,v) will store the elements came from dict3.items() which will return both keys and values as we are using .items() method\n",
        "#k:v will print those items iterated by (k:v) in the console"
      ],
      "metadata": {
        "colab": {
          "base_uri": "https://localhost:8080/"
        },
        "id": "d4QxEF8NZwuz",
        "outputId": "7ecfacd2-7089-45f7-86a2-e98fc96e0842"
      },
      "execution_count": 35,
      "outputs": [
        {
          "output_type": "execute_result",
          "data": {
            "text/plain": [
              "{'Empname': 'Sugan',\n",
              " 'Loc': 'Chn',\n",
              " 'Mobile': 987654321,\n",
              " 'Domain': None,\n",
              " 'Des': 'Trainer'}"
            ]
          },
          "metadata": {},
          "execution_count": 35
        }
      ]
    },
    {
      "cell_type": "code",
      "source": [
        "#change the values in dictionary\n",
        "newdict={'a':1,'b':2,'c':3,'d':4,'e':5}\n",
        "{k:v**2 for (k,v) in newdict.items()} #item=>tuple"
      ],
      "metadata": {
        "colab": {
          "base_uri": "https://localhost:8080/"
        },
        "id": "7QsL-VI2al1z",
        "outputId": "499e60a8-ebd9-4191-8e1d-4ed7ab042b4d"
      },
      "execution_count": 37,
      "outputs": [
        {
          "output_type": "execute_result",
          "data": {
            "text/plain": [
              "{'a': 1, 'b': 4, 'c': 9, 'd': 16, 'e': 25}"
            ]
          },
          "metadata": {},
          "execution_count": 37
        }
      ]
    },
    {
      "cell_type": "code",
      "source": [
        "{i:i**2 for i in range(1,11)}"
      ],
      "metadata": {
        "colab": {
          "base_uri": "https://localhost:8080/"
        },
        "id": "FX1PLJr4a9bt",
        "outputId": "7416f282-853b-4732-99d5-e97575dc55ed"
      },
      "execution_count": 38,
      "outputs": [
        {
          "output_type": "execute_result",
          "data": {
            "text/plain": [
              "{1: 1, 2: 4, 3: 9, 4: 16, 5: 25, 6: 36, 7: 49, 8: 64, 9: 81, 10: 100}"
            ]
          },
          "metadata": {},
          "execution_count": 38
        }
      ]
    },
    {
      "cell_type": "code",
      "source": [
        "{i:i**2 for i in range(1,11) if i%2==1} #all the odd numbers will be picked in range"
      ],
      "metadata": {
        "colab": {
          "base_uri": "https://localhost:8080/"
        },
        "id": "6gicPlQ7baRE",
        "outputId": "8bdf061f-bf59-4151-880f-1bbe62c16df6"
      },
      "execution_count": 41,
      "outputs": [
        {
          "output_type": "execute_result",
          "data": {
            "text/plain": [
              "{1: 1, 3: 9, 5: 25, 7: 49, 9: 81}"
            ]
          },
          "metadata": {},
          "execution_count": 41
        }
      ]
    },
    {
      "cell_type": "code",
      "source": [
        "#SET = unordered collection of data\n",
        "#never allow duplicates\n",
        "#Mutable(can change the values)\n",
        "#{} = braces\n"
      ],
      "metadata": {
        "id": "eLhpZdcIXXW3"
      },
      "execution_count": 45,
      "outputs": []
    },
    {
      "cell_type": "code",
      "source": [
        "#create a set\n",
        "myset={}\n",
        "type(myset)"
      ],
      "metadata": {
        "colab": {
          "base_uri": "https://localhost:8080/"
        },
        "id": "1ZWAMt1LcXxv",
        "outputId": "cd93120e-2763-4cd7-fd9c-2f7676752620"
      },
      "execution_count": 46,
      "outputs": [
        {
          "output_type": "execute_result",
          "data": {
            "text/plain": [
              "dict"
            ]
          },
          "metadata": {},
          "execution_count": 46
        }
      ]
    },
    {
      "cell_type": "code",
      "source": [
        "myset=set()\n",
        "type(myset)"
      ],
      "metadata": {
        "colab": {
          "base_uri": "https://localhost:8080/"
        },
        "id": "NteySMgxceTy",
        "outputId": "011a2afd-fdde-4c9e-8913-4ba4fee7f7dc"
      },
      "execution_count": 47,
      "outputs": [
        {
          "output_type": "execute_result",
          "data": {
            "text/plain": [
              "set"
            ]
          },
          "metadata": {},
          "execution_count": 47
        }
      ]
    },
    {
      "cell_type": "code",
      "source": [
        "s1=set([1,2,3,4])\n",
        "s1"
      ],
      "metadata": {
        "colab": {
          "base_uri": "https://localhost:8080/"
        },
        "id": "jYkxnbHTcSvW",
        "outputId": "46b0fd6d-18a2-4a2b-df5d-b28a03ae992f"
      },
      "execution_count": 48,
      "outputs": [
        {
          "output_type": "execute_result",
          "data": {
            "text/plain": [
              "{1, 2, 3, 4}"
            ]
          },
          "metadata": {},
          "execution_count": 48
        }
      ]
    },
    {
      "cell_type": "code",
      "source": [
        "#unordered\n",
        "myset={1,2,3,'Sai',4}\n",
        "myset"
      ],
      "metadata": {
        "colab": {
          "base_uri": "https://localhost:8080/"
        },
        "id": "cyrRRSWJcA34",
        "outputId": "6d8f88b4-3d1f-4286-94db-e74aafdbff72"
      },
      "execution_count": 49,
      "outputs": [
        {
          "output_type": "execute_result",
          "data": {
            "text/plain": [
              "{1, 2, 3, 4, 'Sai'}"
            ]
          },
          "metadata": {},
          "execution_count": 49
        }
      ]
    },
    {
      "cell_type": "code",
      "source": [
        "#value should be unique\n",
        "myset={1,2,3,222,1,2,3}\n",
        "myset"
      ],
      "metadata": {
        "colab": {
          "base_uri": "https://localhost:8080/"
        },
        "id": "0F9UTEnrUVXs",
        "outputId": "a6adcc17-c574-408e-a110-a5810d66da2c"
      },
      "execution_count": 50,
      "outputs": [
        {
          "output_type": "execute_result",
          "data": {
            "text/plain": [
              "{1, 2, 3, 222}"
            ]
          },
          "metadata": {},
          "execution_count": 50
        }
      ]
    },
    {
      "cell_type": "code",
      "source": [
        "#Accessing set\n",
        "#no order - no indexing\n",
        "#iterate the set\n",
        "for i in myset:\n",
        "  print(i,end=\" \")\n"
      ],
      "metadata": {
        "colab": {
          "base_uri": "https://localhost:8080/"
        },
        "id": "T3ch8al-T165",
        "outputId": "6916aa7a-1ef9-405a-e489-72faffb0ab1d"
      },
      "execution_count": 52,
      "outputs": [
        {
          "output_type": "stream",
          "name": "stdout",
          "text": [
            "1 2 3 222 "
          ]
        }
      ]
    },
    {
      "cell_type": "code",
      "source": [
        "# #Modify and delete\n",
        "# del myset\n",
        "# myset #deleting/modification of single element is not possible"
      ],
      "metadata": {
        "id": "olYyl-FCdqMz"
      },
      "execution_count": 57,
      "outputs": []
    },
    {
      "cell_type": "code",
      "source": [
        "#Method\n",
        "myset=set()\n",
        "myset.add(10)\n",
        "myset.add(20)\n",
        "myset"
      ],
      "metadata": {
        "colab": {
          "base_uri": "https://localhost:8080/"
        },
        "id": "ldGQNposd-Wp",
        "outputId": "0556c757-82f4-42e3-c662-3e386e8dbf41"
      },
      "execution_count": 87,
      "outputs": [
        {
          "output_type": "execute_result",
          "data": {
            "text/plain": [
              "{10, 20}"
            ]
          },
          "metadata": {},
          "execution_count": 87
        }
      ]
    },
    {
      "cell_type": "code",
      "source": [
        "myset1=set()\n",
        "no=int(input('Enter n value:'))\n",
        "for i in range(no):\n",
        "  myset1.add(input('Enter value:'))\n",
        "myset1\n"
      ],
      "metadata": {
        "colab": {
          "base_uri": "https://localhost:8080/"
        },
        "id": "73iSduvheIPf",
        "outputId": "432fa536-7f8c-498e-bade-da5a1d1c8f91"
      },
      "execution_count": 64,
      "outputs": [
        {
          "name": "stdout",
          "output_type": "stream",
          "text": [
            "Enter n value:2\n",
            "Enter value:1\n",
            "Enter value:amit\n"
          ]
        },
        {
          "output_type": "execute_result",
          "data": {
            "text/plain": [
              "{'1', 'amit'}"
            ]
          },
          "metadata": {},
          "execution_count": 64
        }
      ]
    },
    {
      "cell_type": "code",
      "source": [
        "#update\n",
        "myset"
      ],
      "metadata": {
        "colab": {
          "base_uri": "https://localhost:8080/"
        },
        "id": "SbwMDkKhe2-v",
        "outputId": "31d27771-35c0-4521-a4bc-339b67f627bf"
      },
      "execution_count": 67,
      "outputs": [
        {
          "output_type": "execute_result",
          "data": {
            "text/plain": [
              "{10, 20}"
            ]
          },
          "metadata": {},
          "execution_count": 67
        }
      ]
    },
    {
      "cell_type": "code",
      "source": [
        "myset1"
      ],
      "metadata": {
        "colab": {
          "base_uri": "https://localhost:8080/"
        },
        "id": "HtZATW0ce74H",
        "outputId": "e963ebba-bced-4578-94ca-289897f87853"
      },
      "execution_count": 68,
      "outputs": [
        {
          "output_type": "execute_result",
          "data": {
            "text/plain": [
              "{'1', 'amit'}"
            ]
          },
          "metadata": {},
          "execution_count": 68
        }
      ]
    },
    {
      "cell_type": "code",
      "source": [
        "myset.update(myset1)\n",
        "myset"
      ],
      "metadata": {
        "colab": {
          "base_uri": "https://localhost:8080/"
        },
        "id": "J-ceo8eOe8gq",
        "outputId": "9e299487-5c9d-42a5-ac77-273d7de1b353"
      },
      "execution_count": 69,
      "outputs": [
        {
          "output_type": "execute_result",
          "data": {
            "text/plain": [
              "{'1', 10, 20, 'amit'}"
            ]
          },
          "metadata": {},
          "execution_count": 69
        }
      ]
    },
    {
      "cell_type": "code",
      "source": [
        "#copy\n",
        "mycopy = myset.copy() #copy the set into another set\n",
        "mycopy"
      ],
      "metadata": {
        "colab": {
          "base_uri": "https://localhost:8080/"
        },
        "id": "BkN6JZR-e-5b",
        "outputId": "89ca33af-1742-4083-e73b-36eb65fcdcd6"
      },
      "execution_count": 72,
      "outputs": [
        {
          "output_type": "execute_result",
          "data": {
            "text/plain": [
              "{'1', 10, 20, 'amit'}"
            ]
          },
          "metadata": {},
          "execution_count": 72
        }
      ]
    },
    {
      "cell_type": "code",
      "source": [
        "#clear\n",
        "mycopy.clear() #clear the entire set\n",
        "mycopy"
      ],
      "metadata": {
        "colab": {
          "base_uri": "https://localhost:8080/"
        },
        "id": "L9762aZgfDIL",
        "outputId": "d9db7c4b-ba49-41a7-d461-0a0a70dea428"
      },
      "execution_count": 73,
      "outputs": [
        {
          "output_type": "execute_result",
          "data": {
            "text/plain": [
              "set()"
            ]
          },
          "metadata": {},
          "execution_count": 73
        }
      ]
    },
    {
      "cell_type": "code",
      "source": [
        "#remove\n",
        "myset"
      ],
      "metadata": {
        "colab": {
          "base_uri": "https://localhost:8080/"
        },
        "id": "aifR72rGfbtd",
        "outputId": "99506d23-1c88-46c3-d3db-546b9dfc0cc3"
      },
      "execution_count": 74,
      "outputs": [
        {
          "output_type": "execute_result",
          "data": {
            "text/plain": [
              "{'1', 10, 20, 'amit'}"
            ]
          },
          "metadata": {},
          "execution_count": 74
        }
      ]
    },
    {
      "cell_type": "code",
      "source": [
        "myset.remove(20)"
      ],
      "metadata": {
        "id": "PHd59usAfXf4"
      },
      "execution_count": 75,
      "outputs": []
    },
    {
      "cell_type": "code",
      "source": [
        "myset"
      ],
      "metadata": {
        "colab": {
          "base_uri": "https://localhost:8080/"
        },
        "id": "0RyY7gPnfDLR",
        "outputId": "12f8a1ba-076c-4f18-d100-4e50b1c8ea1f"
      },
      "execution_count": 77,
      "outputs": [
        {
          "output_type": "execute_result",
          "data": {
            "text/plain": [
              "{'1', 10, 'amit'}"
            ]
          },
          "metadata": {},
          "execution_count": 77
        }
      ]
    },
    {
      "cell_type": "code",
      "source": [
        "#discard\n",
        "myset.discard('1')\n",
        "myset"
      ],
      "metadata": {
        "colab": {
          "base_uri": "https://localhost:8080/"
        },
        "id": "LJan0L4CfDOg",
        "outputId": "0e826759-dacb-42da-897a-145fa6b57e19"
      },
      "execution_count": 79,
      "outputs": [
        {
          "output_type": "execute_result",
          "data": {
            "text/plain": [
              "{10, 'amit'}"
            ]
          },
          "metadata": {},
          "execution_count": 79
        }
      ]
    },
    {
      "cell_type": "code",
      "source": [
        "myset.discard('1') #it will never throw error, if its present it will remove, if its not present it will not throw any error"
      ],
      "metadata": {
        "id": "4-HRA1lifDRk"
      },
      "execution_count": 82,
      "outputs": []
    },
    {
      "cell_type": "code",
      "source": [
        "#pop\n",
        "myset\n",
        "myset.pop() #remove the last value from the set"
      ],
      "metadata": {
        "colab": {
          "base_uri": "https://localhost:8080/"
        },
        "id": "ZSW-OTVlgDQF",
        "outputId": "3e487ac6-fcef-488d-9ea1-0a8ea6c257c3"
      },
      "execution_count": 88,
      "outputs": [
        {
          "output_type": "execute_result",
          "data": {
            "text/plain": [
              "10"
            ]
          },
          "metadata": {},
          "execution_count": 88
        }
      ]
    },
    {
      "cell_type": "code",
      "source": [
        "#Others Method\n",
        "#union\n",
        "s1={1,2,3,4}\n",
        "s2={2,3,5,6}\n",
        "print(s1.union(s2))\n",
        "s1\n",
        "print(s1|s2) #pipe symbol also does the union of two set"
      ],
      "metadata": {
        "colab": {
          "base_uri": "https://localhost:8080/"
        },
        "id": "woHDo8E9fDUb",
        "outputId": "f733cef4-3f94-4fa4-ff57-3298b95013f4"
      },
      "execution_count": 93,
      "outputs": [
        {
          "output_type": "stream",
          "name": "stdout",
          "text": [
            "{1, 2, 3, 4, 5, 6}\n",
            "{1, 2, 3, 4, 5, 6}\n"
          ]
        }
      ]
    },
    {
      "cell_type": "code",
      "source": [
        "#intersection\n",
        "print(s1.intersection(s2))  #will give the common values only\n",
        "print(s1&s2)\n"
      ],
      "metadata": {
        "colab": {
          "base_uri": "https://localhost:8080/"
        },
        "id": "lS0CtYCofDXh",
        "outputId": "53a70a30-023c-49d0-d971-82e68f6f3de6"
      },
      "execution_count": 98,
      "outputs": [
        {
          "output_type": "stream",
          "name": "stdout",
          "text": [
            "{2, 3}\n",
            "{2, 3}\n"
          ]
        }
      ]
    },
    {
      "cell_type": "code",
      "source": [
        "#requirement for updation -intersection_update()\n",
        "s3=(s1.intersection_update(s2))\n",
        "print(s3)\n",
        "print(s1) #set1 values will get updated in intersection_update"
      ],
      "metadata": {
        "colab": {
          "base_uri": "https://localhost:8080/"
        },
        "id": "nY_kv3ZVhI2a",
        "outputId": "ac44a6db-6383-4688-9a29-455f94cf7757"
      },
      "execution_count": 103,
      "outputs": [
        {
          "output_type": "stream",
          "name": "stdout",
          "text": [
            "None\n",
            "{2, 3}\n"
          ]
        }
      ]
    },
    {
      "cell_type": "code",
      "source": [
        "#difference = will give difference of two sets\n",
        "print(s1)\n",
        "print(s2)\n",
        "print(s2.difference(s1)) #subtract s1 from s2\n",
        "print(s1,s2) #s1, s2 won't get affected"
      ],
      "metadata": {
        "colab": {
          "base_uri": "https://localhost:8080/"
        },
        "id": "VpX-EWNWhFPr",
        "outputId": "ee07b3a8-3568-48f3-f341-57c62ac543c0"
      },
      "execution_count": 110,
      "outputs": [
        {
          "output_type": "stream",
          "name": "stdout",
          "text": [
            "{2, 3}\n",
            "{2, 3, 5, 6}\n",
            "{5, 6}\n",
            "{2, 3} {2, 3, 5, 6}\n"
          ]
        }
      ]
    },
    {
      "cell_type": "code",
      "source": [
        "#difference_update\n",
        "print(s2.difference_update(s1))\n",
        "print(s1,s2)\n",
        "print(s2)"
      ],
      "metadata": {
        "colab": {
          "base_uri": "https://localhost:8080/"
        },
        "id": "TPEb-BzVh94Z",
        "outputId": "3ae78d81-b8c6-4533-fe4d-f62840ff6d58"
      },
      "execution_count": 112,
      "outputs": [
        {
          "output_type": "stream",
          "name": "stdout",
          "text": [
            "None\n",
            "set() {2, 3, 5, 6}\n",
            "{2, 3, 5, 6}\n"
          ]
        }
      ]
    },
    {
      "cell_type": "code",
      "source": [
        "#symmteric difference = will give uncommon values from both sets\n",
        "s1={1,2,3,4,5,6}\n",
        "print(s1,s2)\n",
        "print(s1.symmetric_difference(s2))\n",
        "print(s2.symmetric_difference(s1))\n",
        "print(s2.symmetric_difference_update(s1))"
      ],
      "metadata": {
        "colab": {
          "base_uri": "https://localhost:8080/"
        },
        "id": "SYeZzaiHhoHQ",
        "outputId": "7e3ef5ae-4721-4069-8e57-b3bf06b43bc1"
      },
      "execution_count": 117,
      "outputs": [
        {
          "output_type": "stream",
          "name": "stdout",
          "text": [
            "{1, 2, 3, 4, 5, 6} {2, 3, 5, 6}\n",
            "{1, 4}\n",
            "{1, 4}\n",
            "None\n"
          ]
        }
      ]
    },
    {
      "cell_type": "code",
      "source": [
        "#isdisjoint\n",
        "s1={1,2,3,4}\n",
        "s2={5,6,7,8}\n",
        "print(s1.isdisjoint(s2)) #return if interaction of both the sets in None"
      ],
      "metadata": {
        "colab": {
          "base_uri": "https://localhost:8080/"
        },
        "id": "MPsLfKcgfDal",
        "outputId": "90b40f3c-0fac-45b7-945a-7c405ec2b218"
      },
      "execution_count": 121,
      "outputs": [
        {
          "output_type": "stream",
          "name": "stdout",
          "text": [
            "True\n"
          ]
        }
      ]
    },
    {
      "cell_type": "code",
      "source": [
        "#subset\n",
        "s1={2,3}\n",
        "s2={2,3,4,5}\n",
        "print(s1.issubset(s2))"
      ],
      "metadata": {
        "colab": {
          "base_uri": "https://localhost:8080/"
        },
        "id": "RJzqXsK5fDeG",
        "outputId": "281fff89-aa38-49cd-93f1-58ea3a7b769b"
      },
      "execution_count": 122,
      "outputs": [
        {
          "output_type": "stream",
          "name": "stdout",
          "text": [
            "True\n"
          ]
        }
      ]
    },
    {
      "cell_type": "code",
      "source": [
        "#superset\n",
        "print(s2.issuperset(s1)) #s2 contains all the values of s1"
      ],
      "metadata": {
        "colab": {
          "base_uri": "https://localhost:8080/"
        },
        "id": "6QZLVN2afDg8",
        "outputId": "cce69b84-d0d4-4155-d65b-fc77409b3b9d"
      },
      "execution_count": 125,
      "outputs": [
        {
          "output_type": "stream",
          "name": "stdout",
          "text": [
            "True\n"
          ]
        }
      ]
    },
    {
      "cell_type": "code",
      "source": [
        "#Functions - sum(), max(), min(), len(), all(), any(), sorted() - original list remain unaffected"
      ],
      "metadata": {
        "id": "h6FuvucsjURT"
      },
      "execution_count": 127,
      "outputs": []
    },
    {
      "cell_type": "code",
      "source": [
        "#Frozen set = make set immutable(can't change values of set)"
      ],
      "metadata": {
        "id": "LYn7bDKYjmuM"
      },
      "execution_count": 129,
      "outputs": []
    },
    {
      "cell_type": "code",
      "source": [
        "myset=frozenset(s1) #immutable, no nested set\n",
        "print(myset)"
      ],
      "metadata": {
        "colab": {
          "base_uri": "https://localhost:8080/"
        },
        "id": "BYdPrxE7jqsI",
        "outputId": "dc630b78-4ede-47e4-9c0c-630a69f89f9c"
      },
      "execution_count": 135,
      "outputs": [
        {
          "output_type": "stream",
          "name": "stdout",
          "text": [
            "frozenset({2, 3})\n"
          ]
        }
      ]
    },
    {
      "cell_type": "code",
      "source": [
        "#comprehension(set)\n",
        "\"\"\"{expression for itr_var in seq}\"\"\""
      ],
      "metadata": {
        "colab": {
          "base_uri": "https://localhost:8080/",
          "height": 36
        },
        "id": "q7uXgme5j4ii",
        "outputId": "70bc4a8f-8f77-4a14-8b8f-8de6ff0ff846"
      },
      "execution_count": 139,
      "outputs": [
        {
          "output_type": "execute_result",
          "data": {
            "text/plain": [
              "'{expression for itr_var in seq}'"
            ],
            "application/vnd.google.colaboratory.intrinsic+json": {
              "type": "string"
            }
          },
          "metadata": {},
          "execution_count": 139
        }
      ]
    },
    {
      "cell_type": "code",
      "source": [
        "{i for i in range(1,11)}"
      ],
      "metadata": {
        "colab": {
          "base_uri": "https://localhost:8080/"
        },
        "id": "XbkttxoskOon",
        "outputId": "3edea972-6e79-45fa-c2da-1f8e804b006d"
      },
      "execution_count": 140,
      "outputs": [
        {
          "output_type": "execute_result",
          "data": {
            "text/plain": [
              "{1, 2, 3, 4, 5, 6, 7, 8, 9, 10}"
            ]
          },
          "metadata": {},
          "execution_count": 140
        }
      ]
    },
    {
      "cell_type": "code",
      "source": [
        "{i/10 for i in range(1,11)}"
      ],
      "metadata": {
        "colab": {
          "base_uri": "https://localhost:8080/"
        },
        "id": "PtxHuL-NkS2D",
        "outputId": "1c23ee3d-0740-4e1b-9937-1ec2705d15dc"
      },
      "execution_count": 142,
      "outputs": [
        {
          "output_type": "execute_result",
          "data": {
            "text/plain": [
              "{0.1, 0.2, 0.3, 0.4, 0.5, 0.6, 0.7, 0.8, 0.9, 1.0}"
            ]
          },
          "metadata": {},
          "execution_count": 142
        }
      ]
    },
    {
      "cell_type": "code",
      "source": [
        "{i for i in range(11)}"
      ],
      "metadata": {
        "colab": {
          "base_uri": "https://localhost:8080/"
        },
        "id": "Ssicb-zEkXUO",
        "outputId": "98f75eb9-0c26-40aa-ea31-d9a91830cebb"
      },
      "execution_count": 143,
      "outputs": [
        {
          "output_type": "execute_result",
          "data": {
            "text/plain": [
              "{0, 1, 2, 3, 4, 5, 6, 7, 8, 9, 10}"
            ]
          },
          "metadata": {},
          "execution_count": 143
        }
      ]
    },
    {
      "cell_type": "code",
      "source": [
        "{i for i in range(11) if i%2==1} #odd numbers"
      ],
      "metadata": {
        "colab": {
          "base_uri": "https://localhost:8080/"
        },
        "id": "DF5cSB8JkaqK",
        "outputId": "22e146a8-a14e-4086-893d-07f03ffb9e74"
      },
      "execution_count": 145,
      "outputs": [
        {
          "output_type": "execute_result",
          "data": {
            "text/plain": [
              "{1, 3, 5, 7, 9}"
            ]
          },
          "metadata": {},
          "execution_count": 145
        }
      ]
    },
    {
      "cell_type": "code",
      "source": [],
      "metadata": {
        "id": "_AJlvLXFkjHW"
      },
      "execution_count": null,
      "outputs": []
    },
    {
      "cell_type": "code",
      "source": [],
      "metadata": {
        "id": "jfcOEEHzkNN8"
      },
      "execution_count": null,
      "outputs": []
    },
    {
      "cell_type": "code",
      "source": [],
      "metadata": {
        "id": "oY3iG87oj-a7"
      },
      "execution_count": null,
      "outputs": []
    },
    {
      "cell_type": "code",
      "source": [],
      "metadata": {
        "id": "j9GcyJHZjwZc"
      },
      "execution_count": null,
      "outputs": []
    },
    {
      "cell_type": "code",
      "source": [],
      "metadata": {
        "id": "bsIDgABGjUcy"
      },
      "execution_count": 125,
      "outputs": []
    },
    {
      "cell_type": "code",
      "source": [],
      "metadata": {
        "id": "hVDIVLWBjUfl"
      },
      "execution_count": 125,
      "outputs": []
    },
    {
      "cell_type": "code",
      "source": [],
      "metadata": {
        "id": "a4MpDEZnjUiv"
      },
      "execution_count": 125,
      "outputs": []
    },
    {
      "cell_type": "code",
      "source": [],
      "metadata": {
        "id": "8S4XV9c3jUl2"
      },
      "execution_count": 125,
      "outputs": []
    },
    {
      "cell_type": "code",
      "source": [],
      "metadata": {
        "id": "kn_KvIcdjUrI"
      },
      "execution_count": null,
      "outputs": []
    }
  ]
}