{
  "nbformat": 4,
  "nbformat_minor": 0,
  "metadata": {
    "colab": {
      "provenance": [],
      "authorship_tag": "ABX9TyNkDM2yOZ60ZG7YBoCF0EJz",
      "include_colab_link": true
    },
    "kernelspec": {
      "name": "python3",
      "display_name": "Python 3"
    },
    "language_info": {
      "name": "python"
    }
  },
  "cells": [
    {
      "cell_type": "markdown",
      "metadata": {
        "id": "view-in-github",
        "colab_type": "text"
      },
      "source": [
        "<a href=\"https://colab.research.google.com/github/geminicopilotgpt/GenAI/blob/main/PythonBasics_Session7_26Feb2025.ipynb\" target=\"_parent\"><img src=\"https://colab.research.google.com/assets/colab-badge.svg\" alt=\"Open In Colab\"/></a>"
      ]
    },
    {
      "cell_type": "code",
      "execution_count": null,
      "metadata": {
        "colab": {
          "base_uri": "https://localhost:8080/"
        },
        "id": "UsvFILGgf8Up",
        "outputId": "65bca910-6737-46b9-bdae-5b8b0b14adc8"
      },
      "outputs": [
        {
          "output_type": "stream",
          "name": "stdout",
          "text": [
            "Enter first no: 2\n",
            "Enter second no: 2\n",
            "Sum: 4\n"
          ]
        }
      ],
      "source": [
        "#Function with parameter\n",
        "\n",
        "##sum of two no's\n",
        "def sumof2nos(no1,no2):\n",
        "  sum=no1+no2\n",
        "  print(\"Sum:\",sum)\n",
        "\n",
        "x=int(input(\"Enter first no: \"))\n",
        "y=int(input(\"Enter second no: \"))\n",
        "sumof2nos(x,y);"
      ]
    },
    {
      "cell_type": "code",
      "source": [
        "#return value from function\n",
        "def sumof2nos(no1,no2):\n",
        "  sum=no1+no2\n",
        "  return sum\n",
        "\n",
        "x=int(input(\"Enter first no: \"))\n",
        "y=int(input(\"Enter second no: \"))\n",
        "res=sumof2nos(x,y);\n",
        "print(\"Sum is: \",res)"
      ],
      "metadata": {
        "colab": {
          "base_uri": "https://localhost:8080/"
        },
        "id": "iHP86o28ge97",
        "outputId": "78138f95-b2e5-4a38-8d4c-1dd852bc1fcd"
      },
      "execution_count": null,
      "outputs": [
        {
          "output_type": "stream",
          "name": "stdout",
          "text": [
            "Enter first no: 2\n",
            "Enter second no: 2\n",
            "Sum is:  4\n"
          ]
        }
      ]
    },
    {
      "cell_type": "code",
      "source": [
        "#return value from function\n",
        "def sumof2nos(no1,no2):\n",
        "  return no1+no2\n",
        "\n",
        "x=int(input(\"Enter first no: \"))\n",
        "y=int(input(\"Enter second no: \"))\n",
        "print(\"Sum is: \",sumof2nos(x,y))"
      ],
      "metadata": {
        "colab": {
          "base_uri": "https://localhost:8080/"
        },
        "id": "NG2tC-i6hU_x",
        "outputId": "f092e288-5df6-4c65-faee-ee9d40e08dc8"
      },
      "execution_count": null,
      "outputs": [
        {
          "output_type": "stream",
          "name": "stdout",
          "text": [
            "Enter first no: 2\n",
            "Enter second no: 2\n",
            "Sum is:  4\n"
          ]
        }
      ]
    },
    {
      "cell_type": "code",
      "source": [
        "tup=12,13,14,15\n",
        "tup"
      ],
      "metadata": {
        "colab": {
          "base_uri": "https://localhost:8080/"
        },
        "id": "2Q7EJThDhy0X",
        "outputId": "abbfe993-9eb6-4ae9-f705-2a99be4b2896"
      },
      "execution_count": null,
      "outputs": [
        {
          "output_type": "execute_result",
          "data": {
            "text/plain": [
              "(12, 13, 14, 15)"
            ]
          },
          "metadata": {},
          "execution_count": 8
        }
      ]
    },
    {
      "cell_type": "code",
      "source": [
        "#calculator - return multiple values\n",
        "def airth(no1,no2):\n",
        "  return no1+no2,no1-no2,no1*no2,no1/no2,no1//no2,no1**no2\n",
        "\n",
        "x=int(input(\"Enter first no: \"))\n",
        "y=int(input(\"Enter second no: \"))\n",
        "res=airth(x,y)\n",
        "print(res)"
      ],
      "metadata": {
        "colab": {
          "base_uri": "https://localhost:8080/"
        },
        "id": "BjaijHlrjmq7",
        "outputId": "85437d41-0e7b-474a-fdc5-c015be98a044"
      },
      "execution_count": null,
      "outputs": [
        {
          "output_type": "stream",
          "name": "stdout",
          "text": [
            "Enter first no: 2\n",
            "Enter second no: 2\n",
            "(4, 0, 4, 1.0, 1, 4)\n"
          ]
        }
      ]
    },
    {
      "cell_type": "code",
      "source": [
        "#calculator - return multiple values\n",
        "def airth(no1,no2):\n",
        "  return no1+no2,no1-no2,no1*no2,no1/no2,no1//no2,no1**no2\n",
        "\n",
        "x=int(input(\"Enter first no: \"))\n",
        "y=int(input(\"Enter second no: \"))\n",
        "add,sub,prod,fdiv,idiv,expo=airth(x,y)\n",
        "print(\"Add: \",add,\"\\nsub : \",sub,\"\\nprod: \",prod,\"\\nfdiv: \",fdiv,\"\\nidiv: \",idiv,\"\\nexpo: \",expo)"
      ],
      "metadata": {
        "colab": {
          "base_uri": "https://localhost:8080/"
        },
        "id": "ii9wHQLHkHRy",
        "outputId": "6c4e4a06-d7df-4ecc-e4cc-8b55e01ae87c"
      },
      "execution_count": null,
      "outputs": [
        {
          "output_type": "stream",
          "name": "stdout",
          "text": [
            "Enter first no: 2\n",
            "Enter second no: 2\n",
            "Add:  4 \n",
            "sub :  0 \n",
            "prod:  4 \n",
            "fdiv:  1.0 \n",
            "idiv:  1 \n",
            "expo:  4\n"
          ]
        }
      ]
    },
    {
      "cell_type": "code",
      "source": [
        "#default argument\n",
        "def sumof2nos(no1,no2=5):\n",
        "  return no1+no2\n",
        "\n",
        "x=int(input(\"Enter first no: \"))\n",
        "y=int(input(\"Enter second no: \"))\n",
        "print(\"Sum is: \",sumof2nos(x,y))\n",
        "print(\"Sum is: \",sumof2nos(x))"
      ],
      "metadata": {
        "colab": {
          "base_uri": "https://localhost:8080/"
        },
        "id": "V_hOfm1NlCy6",
        "outputId": "5ab6442b-c8d2-4822-8ba4-0f31f9f7d66b"
      },
      "execution_count": null,
      "outputs": [
        {
          "output_type": "stream",
          "name": "stdout",
          "text": [
            "Enter first no: 2\n",
            "Enter second no: 2\n",
            "Sum is:  4\n",
            "Sum is:  7\n"
          ]
        }
      ]
    },
    {
      "cell_type": "code",
      "source": [
        "def sumoflist(lst):\n",
        "  print(type(lst))\n",
        "  return sum(lst)\n",
        "\n",
        "\n",
        "def mymain():\n",
        "  mylst=[1,2,3,4,5]\n",
        "  print(\"sum of list: \",sumoflist(mylst))\n",
        "\n",
        "\n",
        "mymain()"
      ],
      "metadata": {
        "colab": {
          "base_uri": "https://localhost:8080/"
        },
        "id": "ld_juYG6l9sJ",
        "outputId": "7d85a618-2424-4e5c-a868-008f33b3b856"
      },
      "execution_count": null,
      "outputs": [
        {
          "output_type": "stream",
          "name": "stdout",
          "text": [
            "<class 'list'>\n",
            "sum of list:  15\n"
          ]
        }
      ]
    },
    {
      "cell_type": "code",
      "source": [
        "def sumoflist(lst):\n",
        "  print(type(lst))\n",
        "  return sum(lst)\n",
        "\n",
        "def mymain():\n",
        "  # mylst=[1,2,3,4,5]\n",
        "  print(\"sum of list: \",sumoflist(1,2,3,4,5))"
      ],
      "metadata": {
        "id": "eCsXmBDXnZzP"
      },
      "execution_count": null,
      "outputs": []
    },
    {
      "cell_type": "code",
      "source": [
        "#Variable length argument = pass more than one value\n",
        "def sumoflist(*args): #*-any\n",
        "  print(args)\n",
        "  print(type(args))\n",
        "  for i in args:\n",
        "    print(i**2,end=\" \")\n",
        "  return sum(args)\n",
        "\n",
        "def mymain():\n",
        "  print(\"sum of list: \",sumoflist(1,2,3,4,5))\n",
        "\n",
        "\n",
        "mymain()"
      ],
      "metadata": {
        "colab": {
          "base_uri": "https://localhost:8080/"
        },
        "id": "16UvM5ljoHis",
        "outputId": "36bf7c3a-4222-4d47-cd2d-4d3efdf50d38"
      },
      "execution_count": null,
      "outputs": [
        {
          "output_type": "stream",
          "name": "stdout",
          "text": [
            "(1, 2, 3, 4, 5)\n",
            "<class 'tuple'>\n",
            "1 4 9 16 25 sum of list:  15\n"
          ]
        }
      ]
    },
    {
      "cell_type": "code",
      "source": [
        "#key-value **kwargs\n",
        "def empInfo(**kwargs):\n",
        "  print(kwargs)\n",
        "\n",
        "empInfo(Name=\"Sugan\",Id=\"12234\",Mobi=9876543210,day=\"Wednesday\")"
      ],
      "metadata": {
        "colab": {
          "base_uri": "https://localhost:8080/"
        },
        "id": "EYpu2Pqishw-",
        "outputId": "23bf6a36-f67a-4c48-8c15-60ce60df7664"
      },
      "execution_count": null,
      "outputs": [
        {
          "output_type": "stream",
          "name": "stdout",
          "text": [
            "{'Name': 'Sugan', 'Id': '12234', 'Mobi': 9876543210, 'day': 'Wednesday'}\n"
          ]
        }
      ]
    },
    {
      "cell_type": "code",
      "source": [
        "#key-value **kwargs\n",
        "def empInfo(**kwargs):\n",
        "  print(kwargs)\n",
        "  print(type(kwargs))\n",
        "  print(kwargs.values())\n",
        "  print(kwargs.keys())\n",
        "\n",
        "empInfo(Name=\"Sugan\",Id=\"12234\",Mobi=9876543210,day=\"Wednesday\")"
      ],
      "metadata": {
        "colab": {
          "base_uri": "https://localhost:8080/"
        },
        "id": "xki7QseJvWGy",
        "outputId": "74e509d6-6682-404f-f178-9f40f7826a26"
      },
      "execution_count": null,
      "outputs": [
        {
          "output_type": "stream",
          "name": "stdout",
          "text": [
            "{'Name': 'Sugan', 'Id': '12234', 'Mobi': 9876543210, 'day': 'Wednesday'}\n",
            "<class 'dict'>\n",
            "dict_values(['Sugan', '12234', 9876543210, 'Wednesday'])\n",
            "dict_keys(['Name', 'Id', 'Mobi', 'day'])\n"
          ]
        }
      ]
    },
    {
      "cell_type": "code",
      "source": [
        "def Info(**kwargs):\n",
        "  print(kwargs,type(kwargs))\n",
        "  print(kwargs.values())\n",
        "  print(kwargs.keys())\n",
        "\n",
        "Info(List=[10,20,30,40],Tuple=(1,2,3,4),set={\"hi\",\"hello\",\"hey\"})"
      ],
      "metadata": {
        "colab": {
          "base_uri": "https://localhost:8080/"
        },
        "id": "4Gw7z4Adv9UF",
        "outputId": "d8c6118e-7c74-4865-ebfe-56d84793074f"
      },
      "execution_count": null,
      "outputs": [
        {
          "output_type": "stream",
          "name": "stdout",
          "text": [
            "{'List': [10, 20, 30, 40], 'Tuple': (1, 2, 3, 4), 'set': {'hello', 'hey', 'hi'}} <class 'dict'>\n",
            "dict_values([[10, 20, 30, 40], (1, 2, 3, 4), {'hello', 'hey', 'hi'}])\n",
            "dict_keys(['List', 'Tuple', 'set'])\n"
          ]
        }
      ]
    },
    {
      "cell_type": "code",
      "source": [
        "def empInfo(*args,**Kwargs):\n",
        "  print(Kwargs,args)\n",
        "  print(type(Kwargs),type(args))\n",
        "\n",
        "empInfo(10,20,30,40,Name=\"Sugan\",Id=\"12234\",Mobi=9876543210,day=\"Wednesday\") #make sure tuple is given first then dictionary values"
      ],
      "metadata": {
        "id": "7KYfoP6JwkCE",
        "colab": {
          "base_uri": "https://localhost:8080/"
        },
        "outputId": "f20e62ae-9d34-4773-cf41-75d794a6e258"
      },
      "execution_count": null,
      "outputs": [
        {
          "output_type": "stream",
          "name": "stdout",
          "text": [
            "{'Name': 'Sugan', 'Id': '12234', 'Mobi': 9876543210, 'day': 'Wednesday'} (10, 20, 30, 40)\n",
            "<class 'dict'> <class 'tuple'>\n"
          ]
        }
      ]
    },
    {
      "cell_type": "code",
      "source": [
        "#Recursion\n",
        "# Function that calls itself\n",
        "# 1.Recursive case\n",
        "# 2.Termination"
      ],
      "metadata": {
        "id": "raZaVmQZXTLj"
      },
      "execution_count": null,
      "outputs": []
    },
    {
      "cell_type": "code",
      "source": [
        "###factorial no=5\n",
        "# no=5*4*3*2*1=120"
      ],
      "metadata": {
        "id": "eS94hhznYX5w"
      },
      "execution_count": null,
      "outputs": []
    },
    {
      "cell_type": "code",
      "source": [
        "def fact(no):\n",
        "  if no==1 or no==0:\n",
        "    return 1\n",
        "  return no*fact(no-1)\n",
        "\n",
        "no=int(input(\"Enter NO: \"))\n",
        "print(\"Factorial: \",fact(no))"
      ],
      "metadata": {
        "colab": {
          "base_uri": "https://localhost:8080/"
        },
        "id": "FOMQMny5Ye0v",
        "outputId": "b626ffe6-8728-4223-ce7f-9be8aa638dd1"
      },
      "execution_count": null,
      "outputs": [
        {
          "output_type": "stream",
          "name": "stdout",
          "text": [
            "Enter NO: 5\n",
            "Factorial:  120\n"
          ]
        }
      ]
    },
    {
      "cell_type": "code",
      "source": [
        "#Lambda\n",
        "# => Function\n",
        "# => Keyword = Lambda\n",
        "\n",
        "# Syntax:\n",
        "\n",
        "#   fun_object=lambda argument:expression"
      ],
      "metadata": {
        "id": "5o0kWe-sYxpZ"
      },
      "execution_count": null,
      "outputs": []
    },
    {
      "cell_type": "code",
      "source": [
        "def square(no):\n",
        "  return no**2\n",
        "\n",
        "no=int(input(\"Enter No:\"))\n",
        "square(no)"
      ],
      "metadata": {
        "colab": {
          "base_uri": "https://localhost:8080/"
        },
        "id": "VqTpdT6MgFPn",
        "outputId": "cf0402b3-9166-490e-8d3f-33369ccd0ed8"
      },
      "execution_count": null,
      "outputs": [
        {
          "name": "stdout",
          "output_type": "stream",
          "text": [
            "Enter No:5\n"
          ]
        },
        {
          "output_type": "execute_result",
          "data": {
            "text/plain": [
              "25"
            ]
          },
          "metadata": {},
          "execution_count": 7
        }
      ]
    },
    {
      "cell_type": "code",
      "source": [
        "sq=lambda no:no**2\n",
        "sq(25)"
      ],
      "metadata": {
        "colab": {
          "base_uri": "https://localhost:8080/"
        },
        "id": "as5kXkibgjnM",
        "outputId": "7e1682be-0d56-4d6b-a7df-0b29be257a03"
      },
      "execution_count": null,
      "outputs": [
        {
          "output_type": "execute_result",
          "data": {
            "text/plain": [
              "625"
            ]
          },
          "metadata": {},
          "execution_count": 8
        }
      ]
    },
    {
      "cell_type": "code",
      "source": [
        "power=lambda m,n:m**n\n",
        "\n",
        "m=int(input(\"M: \"))\n",
        "n=int(input(\"N: \"))\n",
        "power(m,n)\n"
      ],
      "metadata": {
        "colab": {
          "base_uri": "https://localhost:8080/"
        },
        "id": "_Vy82c5MgnsD",
        "outputId": "32659ed7-6274-4910-e8d1-0929a90cca68"
      },
      "execution_count": null,
      "outputs": [
        {
          "name": "stdout",
          "output_type": "stream",
          "text": [
            "M: 2\n",
            "N: 3\n"
          ]
        },
        {
          "output_type": "execute_result",
          "data": {
            "text/plain": [
              "8"
            ]
          },
          "metadata": {},
          "execution_count": 9
        }
      ]
    },
    {
      "cell_type": "code",
      "source": [
        "def square(no):\n",
        "  return no**2\n",
        "\n",
        "\n",
        "lst=[1,2,3,4,5]\n",
        "res=[]\n",
        "for i in lst:\n",
        "  res.append(square(i))\n",
        "\n",
        "res"
      ],
      "metadata": {
        "colab": {
          "base_uri": "https://localhost:8080/"
        },
        "id": "Wqs2_dezhFOd",
        "outputId": "73cd524d-97fb-4390-99cb-150441f39faa"
      },
      "execution_count": null,
      "outputs": [
        {
          "output_type": "execute_result",
          "data": {
            "text/plain": [
              "[1, 4, 9, 16, 25]"
            ]
          },
          "metadata": {},
          "execution_count": 11
        }
      ]
    },
    {
      "cell_type": "code",
      "source": [
        "# Map"
      ],
      "metadata": {
        "id": "LN6ZVTSjiTrc"
      },
      "execution_count": null,
      "outputs": []
    },
    {
      "cell_type": "code",
      "source": [
        "# map(function,*seq) #seq"
      ],
      "metadata": {
        "id": "rNIbR_AEiRIc"
      },
      "execution_count": null,
      "outputs": []
    },
    {
      "cell_type": "code",
      "source": [
        "def square(no):\n",
        "  return no**2\n",
        "\n",
        "lst=[1,2,3,4,5]\n",
        "print(list(map(square,lst)))\n",
        "print(tuple(map(square,lst)))"
      ],
      "metadata": {
        "colab": {
          "base_uri": "https://localhost:8080/"
        },
        "id": "YKMAfd3vjHjQ",
        "outputId": "e78fd239-afbe-41ae-db6a-74bb376d3517"
      },
      "execution_count": null,
      "outputs": [
        {
          "output_type": "stream",
          "name": "stdout",
          "text": [
            "[1, 4, 9, 16, 25]\n",
            "(1, 4, 9, 16, 25)\n"
          ]
        }
      ]
    },
    {
      "cell_type": "code",
      "source": [
        "lst=[1,2,3,4,5]\n",
        "print(list(map(lambda no:no**2,lst)))"
      ],
      "metadata": {
        "id": "7XUPBytljTRO",
        "colab": {
          "base_uri": "https://localhost:8080/"
        },
        "outputId": "f95b06c3-e2d6-4894-becb-734b95d97567"
      },
      "execution_count": 1,
      "outputs": [
        {
          "output_type": "stream",
          "name": "stdout",
          "text": [
            "[1, 4, 9, 16, 25]\n"
          ]
        }
      ]
    },
    {
      "cell_type": "code",
      "source": [
        "def sumoflist(lst1,lst2):\n",
        "  res=[]\n",
        "  for i in range(len(lst1)): #0 1 2 3\n",
        "    res.append(lst1[i]+lst2[i])\n",
        "  return res\n",
        "\n",
        "lst1=[1,2,3,4]\n",
        "lst2=[10,20,30,40]\n",
        "sumoflist(lst1,lst2)"
      ],
      "metadata": {
        "colab": {
          "base_uri": "https://localhost:8080/"
        },
        "id": "gmrgEDhXsJUn",
        "outputId": "38953443-27a4-4f30-fed5-68a30ef295d0"
      },
      "execution_count": 2,
      "outputs": [
        {
          "output_type": "execute_result",
          "data": {
            "text/plain": [
              "[11, 22, 33, 44]"
            ]
          },
          "metadata": {},
          "execution_count": 2
        }
      ]
    },
    {
      "cell_type": "code",
      "source": [
        "lst1=[1,2,3,4]\n",
        "lst2=[10,20,30,40]\n",
        "\n",
        "tuple(map(lambda x,y:x+y, lst1,lst2))"
      ],
      "metadata": {
        "colab": {
          "base_uri": "https://localhost:8080/"
        },
        "id": "T2w_4_ectCf6",
        "outputId": "b08ffff5-e62e-41c5-9b80-0c786a307ca0"
      },
      "execution_count": 3,
      "outputs": [
        {
          "output_type": "execute_result",
          "data": {
            "text/plain": [
              "(11, 22, 33, 44)"
            ]
          },
          "metadata": {},
          "execution_count": 3
        }
      ]
    },
    {
      "cell_type": "code",
      "source": [
        "#Filter\n",
        "def even(no):\n",
        "  if no%2==0:\n",
        "    return no\n",
        "\n",
        "lst=[]\n",
        "\n",
        "for i in range(1,11):\n",
        "  x=even(i)\n",
        "  if x is not None:\n",
        "    lst.append(x)\n",
        "\n",
        "print(lst)"
      ],
      "metadata": {
        "colab": {
          "base_uri": "https://localhost:8080/"
        },
        "id": "t1fMxSB8ufba",
        "outputId": "59e5ccd9-71e8-4dfb-bd4e-c1f7a1aee585"
      },
      "execution_count": 4,
      "outputs": [
        {
          "output_type": "stream",
          "name": "stdout",
          "text": [
            "[2, 4, 6, 8, 10]\n"
          ]
        }
      ]
    },
    {
      "cell_type": "code",
      "source": [
        "def even(no):\n",
        "  if no%2==0:\n",
        "    return no\n",
        "\n",
        "list(filter(even,range(1,11)))"
      ],
      "metadata": {
        "colab": {
          "base_uri": "https://localhost:8080/"
        },
        "id": "SZHXMxRXv-wm",
        "outputId": "a84cdb24-ed9a-4c1d-a641-a78c04a21814"
      },
      "execution_count": 6,
      "outputs": [
        {
          "output_type": "execute_result",
          "data": {
            "text/plain": [
              "[2, 4, 6, 8, 10]"
            ]
          },
          "metadata": {},
          "execution_count": 6
        }
      ]
    },
    {
      "cell_type": "code",
      "source": [
        "list(filter(lambda no:no%2==0,range(1,11)))"
      ],
      "metadata": {
        "colab": {
          "base_uri": "https://localhost:8080/"
        },
        "id": "vYw_O2VBwWg-",
        "outputId": "2a96639d-e041-4cf6-8891-13317b83182e"
      },
      "execution_count": 9,
      "outputs": [
        {
          "output_type": "execute_result",
          "data": {
            "text/plain": [
              "[2, 4, 6, 8, 10]"
            ]
          },
          "metadata": {},
          "execution_count": 9
        }
      ]
    },
    {
      "cell_type": "code",
      "source": [
        "#Reduce\n",
        "\n",
        "# 1+2+3+4+5\n",
        "# =>1+2=3+5"
      ],
      "metadata": {
        "id": "VZo0RO5fw-iL"
      },
      "execution_count": 10,
      "outputs": []
    },
    {
      "cell_type": "code",
      "source": [
        "# Syntax:\n",
        "\n",
        "#   import functools\n",
        "#   functools.reduce(function,seq)"
      ],
      "metadata": {
        "id": "-t19vfiYxiyX"
      },
      "execution_count": 11,
      "outputs": []
    },
    {
      "cell_type": "code",
      "source": [
        "import functools\n",
        "functools.reduce(lambda x,y:x+y,range(1,6)) #reduce - something to be done based on previous result"
      ],
      "metadata": {
        "colab": {
          "base_uri": "https://localhost:8080/"
        },
        "id": "Uo_DT08TxpMW",
        "outputId": "0ca07d7e-03a8-45a1-d60f-97844c16dd06"
      },
      "execution_count": 13,
      "outputs": [
        {
          "output_type": "execute_result",
          "data": {
            "text/plain": [
              "15"
            ]
          },
          "metadata": {},
          "execution_count": 13
        }
      ]
    },
    {
      "cell_type": "code",
      "source": [],
      "metadata": {
        "id": "FBl7up2MyjiM"
      },
      "execution_count": null,
      "outputs": []
    },
    {
      "cell_type": "code",
      "source": [],
      "metadata": {
        "id": "WA2txBeMyeNW"
      },
      "execution_count": null,
      "outputs": []
    },
    {
      "cell_type": "code",
      "source": [],
      "metadata": {
        "id": "l4ht07Kyw86d"
      },
      "execution_count": null,
      "outputs": []
    },
    {
      "cell_type": "code",
      "source": [],
      "metadata": {
        "id": "YBZPKxcXwzpe"
      },
      "execution_count": null,
      "outputs": []
    },
    {
      "cell_type": "code",
      "source": [],
      "metadata": {
        "id": "iFQkujxpwUyE"
      },
      "execution_count": null,
      "outputs": []
    },
    {
      "cell_type": "code",
      "source": [],
      "metadata": {
        "id": "lH3TfT5PXMXd"
      },
      "execution_count": null,
      "outputs": []
    },
    {
      "cell_type": "code",
      "source": [],
      "metadata": {
        "id": "egvVX76gv639"
      },
      "execution_count": null,
      "outputs": []
    },
    {
      "cell_type": "code",
      "source": [],
      "metadata": {
        "id": "SIPa7X-Xv43O"
      },
      "execution_count": null,
      "outputs": []
    },
    {
      "cell_type": "code",
      "source": [],
      "metadata": {
        "id": "OGJ5NI6Zv1bs"
      },
      "execution_count": null,
      "outputs": []
    },
    {
      "cell_type": "code",
      "source": [],
      "metadata": {
        "id": "0aeW2cgEvS2s"
      },
      "execution_count": null,
      "outputs": []
    },
    {
      "cell_type": "code",
      "source": [],
      "metadata": {
        "id": "eFwuePHQoD4u"
      },
      "execution_count": null,
      "outputs": []
    },
    {
      "cell_type": "code",
      "source": [],
      "metadata": {
        "id": "sM1qqcn-nOBM"
      },
      "execution_count": null,
      "outputs": []
    },
    {
      "cell_type": "code",
      "source": [],
      "metadata": {
        "id": "a27ZUjVul7P0"
      },
      "execution_count": null,
      "outputs": []
    },
    {
      "cell_type": "code",
      "source": [],
      "metadata": {
        "id": "l1RmlsOfl5sS"
      },
      "execution_count": null,
      "outputs": []
    },
    {
      "cell_type": "code",
      "source": [],
      "metadata": {
        "id": "IUgL3I6plxkU"
      },
      "execution_count": null,
      "outputs": []
    },
    {
      "cell_type": "code",
      "source": [],
      "metadata": {
        "id": "gEgFqXpxluQd"
      },
      "execution_count": null,
      "outputs": []
    },
    {
      "cell_type": "code",
      "source": [],
      "metadata": {
        "id": "38JQOXnZlsbr"
      },
      "execution_count": null,
      "outputs": []
    },
    {
      "cell_type": "code",
      "source": [],
      "metadata": {
        "id": "jsK4MbcklmJM"
      },
      "execution_count": null,
      "outputs": []
    },
    {
      "cell_type": "code",
      "source": [],
      "metadata": {
        "id": "U1YcD7fllk8E"
      },
      "execution_count": null,
      "outputs": []
    },
    {
      "cell_type": "code",
      "source": [],
      "metadata": {
        "id": "KbpgK2Wak1QA"
      },
      "execution_count": null,
      "outputs": []
    },
    {
      "cell_type": "code",
      "source": [],
      "metadata": {
        "id": "FPs4hNFRkuto"
      },
      "execution_count": null,
      "outputs": []
    },
    {
      "cell_type": "code",
      "source": [],
      "metadata": {
        "id": "VGto60E0klNX"
      },
      "execution_count": null,
      "outputs": []
    },
    {
      "cell_type": "code",
      "source": [],
      "metadata": {
        "id": "I_TjgMQgkPWM"
      },
      "execution_count": null,
      "outputs": []
    },
    {
      "cell_type": "code",
      "source": [],
      "metadata": {
        "id": "_cPxRklUj2HV"
      },
      "execution_count": null,
      "outputs": []
    },
    {
      "cell_type": "code",
      "source": [],
      "metadata": {
        "id": "KiubnPmThOJ-"
      },
      "execution_count": null,
      "outputs": []
    },
    {
      "cell_type": "code",
      "source": [],
      "metadata": {
        "id": "ZzUfJdFigcGN"
      },
      "execution_count": null,
      "outputs": []
    },
    {
      "cell_type": "code",
      "source": [],
      "metadata": {
        "id": "pJWnMD0EgX3l"
      },
      "execution_count": null,
      "outputs": []
    },
    {
      "cell_type": "code",
      "source": [],
      "metadata": {
        "id": "oezJz4x4gQQc"
      },
      "execution_count": null,
      "outputs": []
    }
  ]
}